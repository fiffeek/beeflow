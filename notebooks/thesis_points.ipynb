{
 "cells": [
  {
   "cell_type": "markdown",
   "id": "cc120a04-81c0-4877-8c8f-03108f6e6596",
   "metadata": {},
   "source": [
    "# Helper code"
   ]
  },
  {
   "cell_type": "code",
   "execution_count": null,
   "id": "50e353fc-9f8a-4f27-91c9-9e153ed35110",
   "metadata": {},
   "outputs": [],
   "source": [
    "from plotly.offline import init_notebook_mode; init_notebook_mode()"
   ]
  },
  {
   "cell_type": "code",
   "execution_count": null,
   "id": "67e99cbe-4281-49ab-8658-7e368be01023",
   "metadata": {},
   "outputs": [],
   "source": [
    "BUCKET_NAME=\"beeflow-dev-metadata-dumps\"\n",
    "\n",
    "import pandas as pd\n",
    "import boto3\n",
    "import plotly.express as px\n",
    "\n",
    "s3 = boto3.client('s3') \n",
    "\n",
    "s3_cache = {}\n",
    "\n",
    "def get_s3_csv(file: str):\n",
    "    if file in s3_cache:\n",
    "        return s3_cache[file]\n",
    "    obj = s3.get_object(Bucket=BUCKET_NAME, Key=file)\n",
    "    df = pd.read_csv(obj['Body'])\n",
    "    s3_cache[file] = df\n",
    "    return df\n",
    "\n",
    "\n",
    "from enum import Enum\n",
    "\n",
    "class System(Enum):\n",
    "    MWAA = \"mwaa\"\n",
    "    BEEFLOW = \"serverless\"\n",
    "    \n",
    "class Stats(Enum):\n",
    "    DAG_RUNS = \"dagrun\"\n",
    "    TASKS = \"taskinstance\"\n",
    "    \n",
    "def get_stats(system: System, date: str, stats: Stats):\n",
    "    return get_s3_csv(f\"{system.value}/export/{stats.value}/dt={date}/{stats.value}.csv\")\n",
    "\n",
    "def filter_on_dag_ids(df, dag_ids):\n",
    "    return df[df['dag_id'].isin(dag_ids)]\n",
    "\n",
    "def filter_on_not_task_ids(df, task_ids):\n",
    "    return df[~df['task_id'].isin(task_ids)]\n",
    "\n",
    "def filter_on_not_dag_run_id(df, dag_run_ids):\n",
    "    return df[~df['run_id'].isin(dag_run_ids)]\n",
    "    "
   ]
  },
  {
   "cell_type": "code",
   "execution_count": null,
   "id": "f4e2e162-8bee-458e-b1d4-86bfb0e31f70",
   "metadata": {},
   "outputs": [],
   "source": [
    "def enhance_with_duration(df):\n",
    "    start_ms_time = pd.to_datetime(df['start_date'])\n",
    "    end_ms_time = pd.to_datetime(df['end_date'])\n",
    "    df['duration'] = end_ms_time.sub(start_ms_time).dt.total_seconds()\n",
    "    \n",
    "def enhance_with_wait_time_dag_runs(df):\n",
    "    queued_ms_time = pd.to_datetime(df['queued_at'])\n",
    "    end_ms_time = pd.to_datetime(df['start_date'])\n",
    "    df['wait_time'] = end_ms_time.sub(queued_ms_time).dt.total_seconds()\n",
    "    \n",
    "def enhance_with_wait_time_tasks(df):\n",
    "    queued_ms_time = pd.to_datetime(df['queued_dttm'])\n",
    "    end_ms_time = pd.to_datetime(df['start_date'])\n",
    "    df['wait_time'] = end_ms_time.sub(queued_ms_time).dt.total_seconds()"
   ]
  },
  {
   "cell_type": "code",
   "execution_count": null,
   "id": "101cbc15-0024-404e-9d78-b34c549d3c7c",
   "metadata": {},
   "outputs": [],
   "source": [
    "from dataclasses import dataclass\n",
    "from typing import List\n",
    "\n",
    "@dataclass\n",
    "class BoxPlotEntry:\n",
    "    data: pd.DataFrame\n",
    "    identifier: str"
   ]
  },
  {
   "cell_type": "code",
   "execution_count": null,
   "id": "65142604-16ac-42b8-9c2e-5cce3846ddac",
   "metadata": {},
   "outputs": [],
   "source": [
    "def box_plot_for(entries: List[BoxPlotEntry], measured_column=\"duration\", hide_x_axis=False, **kwargs):\n",
    "    transformed_data = []\n",
    "    for entry in entries:\n",
    "        df = entry.data.loc[:, ]\n",
    "        df[\"identifier\"] = entry.identifier\n",
    "        transformed_data.append(df)\n",
    "    transformed_data = pd.concat(transformed_data)\n",
    "    fig = px.box(transformed_data, x=\"identifier\", y=measured_column, color=\"identifier\", points=\"all\", **kwargs)\n",
    "    if hide_x_axis:\n",
    "        fig.update_xaxes(visible=False, showticklabels=False)\n",
    "    fig.show()"
   ]
  },
  {
   "cell_type": "code",
   "execution_count": null,
   "id": "25910beb-8958-4f63-bed2-b3b1b08f2847",
   "metadata": {},
   "outputs": [],
   "source": [
    "@dataclass\n",
    "class BoxPlotsEntry:\n",
    "    system: System\n",
    "    export_date: str\n",
    "    dag_ids: List[str]\n",
    "    task_duration: int\n",
    "    tasks_count: int\n",
    "    additional_metadata: str = \"\""
   ]
  },
  {
   "cell_type": "code",
   "execution_count": null,
   "id": "da73ca8f-0885-4a0a-91c4-40a5b94684a4",
   "metadata": {},
   "outputs": [],
   "source": [
    "def box_plots_for(entries: List[BoxPlotsEntry], not_task_ids, not_dag_run_ids=[], hide_x_axis=False, **kwargs):\n",
    "    dags_data = []\n",
    "    task_duration = None\n",
    "    \n",
    "    for entry in entries:\n",
    "        task_duration = entry.task_duration\n",
    "        entry_dag_runs = filter_on_not_dag_run_id(\n",
    "            df=filter_on_dag_ids(\n",
    "                df=get_stats(system=entry.system, date=entry.export_date, stats=Stats.DAG_RUNS), \n",
    "                dag_ids=entry.dag_ids,\n",
    "            ),\n",
    "            dag_run_ids=not_dag_run_ids,\n",
    "        )\n",
    "        enhance_with_duration(entry_dag_runs)\n",
    "        enhance_with_wait_time_dag_runs(entry_dag_runs)\n",
    "        \n",
    "        dags_data.append(\n",
    "            BoxPlotEntry(\n",
    "                data=entry_dag_runs,\n",
    "                identifier=f\"{entry.system.value}_tasks:{entry.tasks_count}_duration:{entry.task_duration}_additional:{entry.additional_metadata}\",\n",
    "            )\n",
    "        )\n",
    "        \n",
    "    box_plot_for(dags_data, \n",
    "                 measured_column=\"duration\", \n",
    "                 title=\"DAG runs comparison: duration\",\n",
    "                 hover_data=[\"run_id\"],\n",
    "                 hide_x_axis=hide_x_axis,\n",
    "                 **kwargs)\n",
    "    \n",
    "    tasks_data = []\n",
    "    \n",
    "    for entry in entries:\n",
    "        entry_tasks = filter_on_not_dag_run_id(\n",
    "            df=filter_on_not_task_ids(\n",
    "                df=filter_on_dag_ids(\n",
    "                    df=get_stats(system=entry.system, date=entry.export_date, stats=Stats.TASKS), \n",
    "                    dag_ids=entry.dag_ids,\n",
    "                ),\n",
    "                task_ids=not_task_ids,\n",
    "            ),\n",
    "            dag_run_ids=not_dag_run_ids,\n",
    "        )\n",
    "        enhance_with_duration(entry_tasks)\n",
    "        enhance_with_wait_time_tasks(entry_tasks)\n",
    "        \n",
    "        tasks_data.append(\n",
    "            BoxPlotEntry(\n",
    "                data=entry_tasks,\n",
    "                identifier=f\"{entry.system.value}_tasks:{entry.tasks_count}_duration:{entry.task_duration}_additional:{entry.additional_metadata}\",\n",
    "            )\n",
    "        )\n",
    "    \n",
    "    box_plot_for(tasks_data,\n",
    "                 measured_column=\"duration\", \n",
    "                 title=f\"Tasks runs comparison: task duration (ideal: {task_duration}s)\",\n",
    "                 hide_x_axis=hide_x_axis,\n",
    "                 **kwargs)\n",
    "    box_plot_for(tasks_data,\n",
    "                 measured_column=\"wait_time\", \n",
    "                 title=\"Tasks run comparision: wait time (amount of time passed from task being marked as queued to started)\",\n",
    "                 hide_x_axis=hide_x_axis,\n",
    "                 **kwargs)\n",
    "        "
   ]
  },
  {
   "cell_type": "code",
   "execution_count": null,
   "id": "4a388f97-1565-45cd-82b5-8600d93dfba4",
   "metadata": {},
   "outputs": [],
   "source": [
    "def trend_for(data: pd.DataFrame, x_col=\"tasks_count\", measured_column=\"duration\", **kwargs):\n",
    "    # display(data)\n",
    "    fig = px.line(data, x=x_col, y=measured_column, color=\"identifier\", **kwargs)\n",
    "    if \"hide_x_axis\" in kwargs:\n",
    "        fig.update_xaxes(visible=False, showticklabels=False)\n",
    "    fig.show()"
   ]
  },
  {
   "cell_type": "code",
   "execution_count": null,
   "id": "7c9819e3-c1f8-47a5-9881-f499c5d6ce50",
   "metadata": {},
   "outputs": [],
   "source": [
    "def trends_for(entries: List[BoxPlotsEntry], not_task_ids, not_dag_run_ids=[], **kwargs):\n",
    "    dags_data = []\n",
    "    \n",
    "    for entry in entries:\n",
    "        task_duration = entry.task_duration\n",
    "        entry_dag_runs = filter_on_not_dag_run_id(\n",
    "            df=filter_on_dag_ids(\n",
    "                df=get_stats(system=entry.system, date=entry.export_date, stats=Stats.DAG_RUNS), \n",
    "                dag_ids=entry.dag_ids,\n",
    "            ),\n",
    "            dag_run_ids=not_dag_run_ids,\n",
    "        )\n",
    "        enhance_with_duration(entry_dag_runs)\n",
    "        enhance_with_wait_time_dag_runs(entry_dag_runs)\n",
    "        \n",
    "        dags_data.append(\n",
    "            {\n",
    "                \"median_duration\": entry_dag_runs[\"duration\"].median(),\n",
    "                \"identifier\": f\"{entry.system.value}\",\n",
    "                \"tasks_count\": entry.tasks_count,\n",
    "            }\n",
    "        )\n",
    "        \n",
    "    trend_for(data=pd.DataFrame(dags_data), measured_column=\"median_duration\", title=\"Median DAG duration\", **kwargs)\n",
    "    \n",
    "    tasks_data = []\n",
    "    for entry in entries:\n",
    "        entry_tasks = filter_on_not_dag_run_id(\n",
    "            df=filter_on_not_task_ids(\n",
    "                df=filter_on_dag_ids(\n",
    "                    df=get_stats(system=entry.system, date=entry.export_date, stats=Stats.TASKS), \n",
    "                    dag_ids=entry.dag_ids,\n",
    "                ),\n",
    "                task_ids=not_task_ids,\n",
    "            ),\n",
    "            dag_run_ids=not_dag_run_ids,\n",
    "        )\n",
    "        enhance_with_duration(entry_tasks)\n",
    "        enhance_with_wait_time_tasks(entry_tasks)\n",
    "        \n",
    "        tasks_data.append(\n",
    "            {\n",
    "                \"median_duration\": entry_tasks[\"duration\"].median(),\n",
    "                \"median_wait_time\": entry_tasks[\"wait_time\"].median(),\n",
    "                \"identifier\": f\"{entry.system.value}\",\n",
    "                \"tasks_count\": entry.tasks_count,\n",
    "            }\n",
    "        )\n",
    "        \n",
    "    \n",
    "    trend_for(data=pd.DataFrame(tasks_data), measured_column=\"median_duration\", title=\"Median Tasks duration\", **kwargs)\n",
    "    trend_for(data=pd.DataFrame(tasks_data), measured_column=\"median_wait_time\", title=\"Median Tasks waittime\", **kwargs)\n",
    "    \n",
    "        "
   ]
  },
  {
   "cell_type": "code",
   "execution_count": null,
   "id": "656cf395-33a0-485f-a65b-ce185d6d5582",
   "metadata": {},
   "outputs": [],
   "source": [
    "from IPython.display import display\n",
    "\n",
    "\n",
    "def print_tables(entries: List[BoxPlotsEntry]):\n",
    "    for entry in entries:\n",
    "        entry_dag_runs = filter_on_dag_ids(\n",
    "            df=get_stats(system=entry.system, date=entry.export_date, stats=Stats.DAG_RUNS), \n",
    "            dag_ids=entry.dag_ids,\n",
    "        )\n",
    "        enhance_with_duration(entry_dag_runs)\n",
    "        print(entry.system)\n",
    "        display(entry_dag_runs[[\"duration\", \"run_id\", \"start_date\", \"end_date\", \"_state\"]])"
   ]
  },
  {
   "cell_type": "markdown",
   "id": "e0332e04-3e0b-4e84-a4f1-e309dc071124",
   "metadata": {},
   "source": [
    "# Points"
   ]
  },
  {
   "cell_type": "markdown",
   "id": "040fdb77-a50b-4c0b-b96e-03f8805c2a89",
   "metadata": {},
   "source": [
    "## Beeflow's performance for line DAG's rivals MWAA"
   ]
  },
  {
   "cell_type": "markdown",
   "id": "85d4af10-fcc1-4a68-9dea-df0ac960f6d0",
   "metadata": {},
   "source": [
    " ## Beeflow's more performant for warm starts (parallel)"
   ]
  },
  {
   "attachments": {
    "2fcbc691-7c93-453d-9b96-834330bec01b.png": {
     "image/png": "[encoded data removed]"
    }
   },
   "cell_type": "markdown",
   "id": "61df7dd4-37e1-48d3-8813-b202d0774fb5",
   "metadata": {},
   "source": [
    "![Untitled Diagram.drawio (2).png](attachment:2fcbc691-7c93-453d-9b96-834330bec01b.png)\n",
    "\n",
    "For this experiment, the following configuration was applied:\n",
    "\n",
    "1. Beeflow\n",
    "- `db.small` was used instead of `db.micro`\n",
    "- the DB allows  for  around 170 concurrent connections, the cost of `db.micro` is `~14$`, while `db.small` is double that (`28`)\n",
    "- `db.micro` is free under the free tier, that allows for `~85` concurrent connections, so highly parallel tests were throttled heavily\n",
    "- `MWAA` seems to use something between `db.small` and `db.medium` (pulled from metrics, there is no official info on this)\n",
    "- thus the comparision is fair, more on this later, the db is the single point of failure and the bottleneck of the system\n",
    "- another possibility and what MWAA leverages is [a managed proxy service on AWS](https://aws.amazon.com/rds/proxy/) but GCP doesn't seem to have the equivalent (TO CONFIRM)\n",
    "- the proxy costs `21$+` a month, so the `db.small` upgrade was chosen\n",
    "- the rest of the setup stays the same\n",
    "- beeflow lambdas for scheduler uses: 512MB mem -> ~1/3 vCPU\n",
    "- beeflow worker lambdas use: 512MB mem -> ~1/3 vCPU (but the only thing they do is sleep)\n",
    "\n",
    "2. MWAA\n",
    "- small environment (limits scheduler to 1vCPU)\n",
    "- 20 workers min, 20 workers max\n",
    "- 10 tasks per worker\n",
    "- one worker has 1 vCPU and 2GB RAM (but again, the tasks in both sleep, so it doesn't matter much)"
   ]
  },
  {
   "cell_type": "markdown",
   "id": "e287a776-2a89-4d69-83bb-849e66cdb390",
   "metadata": {
    "tags": []
   },
   "source": [
    "### 20 tasks"
   ]
  },
  {
   "cell_type": "code",
   "execution_count": null,
   "id": "f291959e-0c1b-475f-8101-5bf4f6f6e5ac",
   "metadata": {},
   "outputs": [],
   "source": [
    "entries = [\n",
    "    BoxPlotsEntry(\n",
    "        system=System.BEEFLOW,\n",
    "        export_date=\"2023-01-07_17-28\",\n",
    "        tasks_count=20,\n",
    "        task_duration=10,\n",
    "        dag_ids=[\"10s_20t\"],\n",
    "        additional_metadata=\"db.small\",\n",
    "    ),\n",
    "    BoxPlotsEntry(\n",
    "        system=System.MWAA,\n",
    "        export_date=\"2023-01-07_17-39\",\n",
    "        tasks_count=20,\n",
    "        task_duration=10,\n",
    "        dag_ids=[\"10s_20t\"],\n",
    "        additional_metadata=\"20workers{min==max}_10task{for worker}\",\n",
    "    ),\n",
    "]"
   ]
  },
  {
   "cell_type": "code",
   "execution_count": null,
   "id": "a02e7ad4-edfd-4d80-9df5-3ae61b184325",
   "metadata": {},
   "outputs": [],
   "source": [
    "box_plots_for(entries=entries, not_task_ids=[\"run_before_loop\"], height=700, width=1500)"
   ]
  },
  {
   "cell_type": "markdown",
   "id": "7188cba4-7374-4853-a9bb-b69f7ac5767d",
   "metadata": {
    "tags": []
   },
   "source": [
    "### 40 tasks"
   ]
  },
  {
   "cell_type": "code",
   "execution_count": null,
   "id": "b412a551-4964-4e2b-b71a-a231d4183555",
   "metadata": {},
   "outputs": [],
   "source": [
    "entries = [\n",
    "    BoxPlotsEntry(\n",
    "        system=System.BEEFLOW,\n",
    "        export_date=\"2023-01-07_18-57\",\n",
    "        tasks_count=40,\n",
    "        task_duration=10,\n",
    "        dag_ids=[\"10s_40t\"],\n",
    "        additional_metadata=\"db.small\",\n",
    "    ),\n",
    "    BoxPlotsEntry(\n",
    "        system=System.MWAA,\n",
    "        export_date=\"2023-01-07_19-09\",\n",
    "        tasks_count=40,\n",
    "        task_duration=10,\n",
    "        dag_ids=[\"10s_40t\"],\n",
    "        additional_metadata=\"20workers{min==max}_10task{for worker}\",\n",
    "    ),\n",
    "]"
   ]
  },
  {
   "cell_type": "code",
   "execution_count": null,
   "id": "e9fde789-0a89-4ad6-92ae-6711a37c2d02",
   "metadata": {},
   "outputs": [],
   "source": [
    "box_plots_for(entries=entries, not_task_ids=[\"run_before_loop\"], height=700, width=1500)"
   ]
  },
  {
   "cell_type": "markdown",
   "id": "540601c3-0984-461d-829a-9bd24a20f7ca",
   "metadata": {
    "tags": []
   },
   "source": [
    "### 80 tasks"
   ]
  },
  {
   "cell_type": "code",
   "execution_count": null,
   "id": "17415ba7-69d7-4895-8c8e-8d131fe55c66",
   "metadata": {},
   "outputs": [],
   "source": [
    "entries = [\n",
    "    BoxPlotsEntry(\n",
    "        system=System.BEEFLOW,\n",
    "        export_date=\"2023-01-07_20-26\",\n",
    "        tasks_count=80,\n",
    "        task_duration=10,\n",
    "        dag_ids=[\"10s_80t\"],\n",
    "        additional_metadata=\"db.small\",\n",
    "    ),\n",
    "    BoxPlotsEntry(\n",
    "        system=System.MWAA,\n",
    "        export_date=\"2023-01-07_20-38\",\n",
    "        tasks_count=80,\n",
    "        task_duration=10,\n",
    "        dag_ids=[\"10s_80t\"],\n",
    "        additional_metadata=\"20workers{min==max}_10task{for worker}\",\n",
    "    ),\n",
    "]"
   ]
  },
  {
   "cell_type": "code",
   "execution_count": null,
   "id": "bbb7404f-7e34-4697-bb3c-947a3d1ca56e",
   "metadata": {},
   "outputs": [],
   "source": [
    "box_plots_for(entries=entries, not_task_ids=[\"run_before_loop\"], height=700, width=1500)"
   ]
  },
  {
   "cell_type": "markdown",
   "id": "3f1f0f6a-6494-454d-809c-be1728d5977c",
   "metadata": {
    "tags": []
   },
   "source": [
    "### 160 tasks\n",
    "\n",
    "In this case MWAA also started to throw some transient errors, 2 DAG runs have not finished in time,\n",
    "a couple of tasks run for ~5minutes. Excluding these from the diagram for the sake of a proper comparison"
   ]
  },
  {
   "cell_type": "code",
   "execution_count": null,
   "id": "4a7ed77a-37a2-4fdc-abed-c6903729d0e2",
   "metadata": {},
   "outputs": [],
   "source": [
    "entries = [\n",
    "    BoxPlotsEntry(\n",
    "        system=System.BEEFLOW,\n",
    "        export_date=\"2023-01-07_21-55\",\n",
    "        tasks_count=160,\n",
    "        task_duration=10,\n",
    "        dag_ids=[\"10s_160t\"],\n",
    "        additional_metadata=\"db.small\",\n",
    "    ),\n",
    "    BoxPlotsEntry(\n",
    "        system=System.MWAA,\n",
    "        export_date=\"2023-01-07_22-07\",\n",
    "        tasks_count=160,\n",
    "        task_duration=10,\n",
    "        dag_ids=[\"10s_160t\"],\n",
    "        additional_metadata=\"20workers{min==max}_10task{for worker}\",\n",
    "    ),\n",
    "]"
   ]
  },
  {
   "cell_type": "code",
   "execution_count": null,
   "id": "9c688432-ecc4-431b-9198-15866abc1b28",
   "metadata": {},
   "outputs": [],
   "source": [
    "from IPython.display import display\n",
    "\n",
    "\n",
    "for entry in entries:\n",
    "    entry_dag_runs = filter_on_dag_ids(\n",
    "        df=get_stats(system=entry.system, date=entry.export_date, stats=Stats.DAG_RUNS), \n",
    "        dag_ids=entry.dag_ids,\n",
    "    )\n",
    "    enhance_with_duration(entry_dag_runs)\n",
    "    print(entry.system)\n",
    "    display(entry_dag_runs[[\"duration\", \"run_id\", \"start_date\", \"end_date\", \"_state\"]])"
   ]
  },
  {
   "cell_type": "code",
   "execution_count": null,
   "id": "a3f7bbd4-df4d-48be-902d-658f95617ab8",
   "metadata": {},
   "outputs": [],
   "source": [
    "box_plots_for(entries=entries, \n",
    "              not_task_ids=[\"run_before_loop\"], \n",
    "              not_dag_run_ids=[\"scheduled__2023-01-07T21:45:00+00:00\", \"scheduled__2023-01-07T21:35:00+00:00\"], \n",
    "              height=700, \n",
    "              width=1500)"
   ]
  },
  {
   "cell_type": "markdown",
   "id": "179cfb48-eabc-45f2-a272-c6efa9095f02",
   "metadata": {
    "tags": []
   },
   "source": [
    "### Trends"
   ]
  },
  {
   "cell_type": "code",
   "execution_count": null,
   "id": "90f6272f-712a-49ee-8c6b-1243b380a176",
   "metadata": {},
   "outputs": [],
   "source": [
    "entries = [\n",
    "    BoxPlotsEntry(\n",
    "        system=System.BEEFLOW,\n",
    "        export_date=\"2023-01-07_17-28\",\n",
    "        tasks_count=20,\n",
    "        task_duration=10,\n",
    "        dag_ids=[\"10s_20t\"],\n",
    "        additional_metadata=\"db.small\",\n",
    "    ),\n",
    "    BoxPlotsEntry(\n",
    "        system=System.MWAA,\n",
    "        export_date=\"2023-01-07_17-39\",\n",
    "        tasks_count=20,\n",
    "        task_duration=10,\n",
    "        dag_ids=[\"10s_20t\"],\n",
    "        additional_metadata=\"20workers{min==max}_10task{for worker}\",\n",
    "    ),\n",
    "    BoxPlotsEntry(\n",
    "        system=System.BEEFLOW,\n",
    "        export_date=\"2023-01-07_18-57\",\n",
    "        tasks_count=40,\n",
    "        task_duration=10,\n",
    "        dag_ids=[\"10s_40t\"],\n",
    "        additional_metadata=\"db.small\",\n",
    "    ),\n",
    "    BoxPlotsEntry(\n",
    "        system=System.MWAA,\n",
    "        export_date=\"2023-01-07_19-09\",\n",
    "        tasks_count=40,\n",
    "        task_duration=10,\n",
    "        dag_ids=[\"10s_40t\"],\n",
    "        additional_metadata=\"20workers{min==max}_10task{for worker}\",\n",
    "    ),\n",
    "    BoxPlotsEntry(\n",
    "        system=System.BEEFLOW,\n",
    "        export_date=\"2023-01-07_20-26\",\n",
    "        tasks_count=80,\n",
    "        task_duration=10,\n",
    "        dag_ids=[\"10s_80t\"],\n",
    "        additional_metadata=\"db.small\",\n",
    "    ),\n",
    "    BoxPlotsEntry(\n",
    "        system=System.MWAA,\n",
    "        export_date=\"2023-01-07_20-38\",\n",
    "        tasks_count=80,\n",
    "        task_duration=10,\n",
    "        dag_ids=[\"10s_80t\"],\n",
    "        additional_metadata=\"20workers{min==max}_10task{for worker}\",\n",
    "    ),\n",
    "    BoxPlotsEntry(\n",
    "        system=System.BEEFLOW,\n",
    "        export_date=\"2023-01-07_21-55\",\n",
    "        tasks_count=160,\n",
    "        task_duration=10,\n",
    "        dag_ids=[\"10s_160t\"],\n",
    "        additional_metadata=\"db.small\",\n",
    "    ),\n",
    "    BoxPlotsEntry(\n",
    "        system=System.MWAA,\n",
    "        export_date=\"2023-01-07_22-07\",\n",
    "        tasks_count=160,\n",
    "        task_duration=10,\n",
    "        dag_ids=[\"10s_160t\"],\n",
    "        additional_metadata=\"20workers{min==max}_10task{for worker}\",\n",
    "    ),\n",
    "]"
   ]
  },
  {
   "cell_type": "code",
   "execution_count": null,
   "id": "fdcc710e-d102-4f0b-a3b6-ae6672cd1f93",
   "metadata": {},
   "outputs": [],
   "source": [
    "trends_for(entries, not_task_ids=[])"
   ]
  },
  {
   "cell_type": "markdown",
   "id": "b57c869f-6fd6-450a-b953-c3a3826d7934",
   "metadata": {},
   "source": [
    "## Beeflow's performance for cold stars rivals warm MWAA environment (parallel)"
   ]
  },
  {
   "cell_type": "markdown",
   "id": "6cb21feb-1833-41be-8e45-842402db6cc2",
   "metadata": {},
   "source": [
    "The setup in this experiment is exactly the same as in the previous one with warm start.\n",
    "The difference is that the DAG was running on 30mins cron, instead of 5mins, thus, making\n",
    "all the lambda start from `cold` invocations for each subsystem in Beeflow."
   ]
  },
  {
   "cell_type": "markdown",
   "id": "8f6b9c12-ab37-4383-b2d2-432bd0d35225",
   "metadata": {
    "tags": []
   },
   "source": [
    "### 20 tasks"
   ]
  },
  {
   "cell_type": "code",
   "execution_count": null,
   "id": "ed9721f2-f056-416e-aa4d-f9d455f194c6",
   "metadata": {},
   "outputs": [],
   "source": [
    "entries = [\n",
    "    BoxPlotsEntry(\n",
    "        system=System.BEEFLOW,\n",
    "        export_date=\"2023-01-07_17-28\",\n",
    "        tasks_count=20,\n",
    "        task_duration=10,\n",
    "        dag_ids=[\"10s_20t\"],\n",
    "        additional_metadata=\"db.small\",\n",
    "    ),\n",
    "    BoxPlotsEntry(\n",
    "        system=System.BEEFLOW,\n",
    "        export_date=\"2023-01-08_16-35\",\n",
    "        tasks_count=20,\n",
    "        task_duration=10,\n",
    "        dag_ids=[\"10s_20t_30cron\"],\n",
    "        additional_metadata=\"db.small_30mincron_coldstart\",\n",
    "    ),\n",
    "    BoxPlotsEntry(\n",
    "        system=System.MWAA,\n",
    "        export_date=\"2023-01-07_17-39\",\n",
    "        tasks_count=20,\n",
    "        task_duration=10,\n",
    "        dag_ids=[\"10s_20t\"],\n",
    "        additional_metadata=\"20workers{min==max}_10task{for worker}\",\n",
    "    ),\n",
    "]"
   ]
  },
  {
   "cell_type": "code",
   "execution_count": null,
   "id": "1608a7be-4dcb-4331-b965-504d0f32b330",
   "metadata": {},
   "outputs": [],
   "source": [
    "print_tables(entries)"
   ]
  },
  {
   "cell_type": "code",
   "execution_count": null,
   "id": "3b489c6d-014b-4d79-86a9-d320061c52e2",
   "metadata": {},
   "outputs": [],
   "source": [
    "box_plots_for(entries=entries, not_task_ids=[\"run_before_loop\"], not_dag_run_ids=[\"scheduled__2023-01-08T14:30:00+00:00\"], height=700, width=1500, hide_x_axis=True)"
   ]
  },
  {
   "cell_type": "markdown",
   "id": "a105b982-fc98-4c6f-a9ea-cf69d7443a33",
   "metadata": {
    "tags": []
   },
   "source": [
    "### 40 tasks"
   ]
  },
  {
   "cell_type": "code",
   "execution_count": null,
   "id": "66c96574-e51a-46de-b5b2-88d577ae13e7",
   "metadata": {},
   "outputs": [],
   "source": [
    "entries = [\n",
    "    BoxPlotsEntry(\n",
    "        system=System.BEEFLOW,\n",
    "        export_date=\"2023-01-07_18-57\",\n",
    "        tasks_count=40,\n",
    "        task_duration=10,\n",
    "        dag_ids=[\"10s_40t\"],\n",
    "        additional_metadata=\"db.small\",\n",
    "    ),\n",
    "    BoxPlotsEntry(\n",
    "        system=System.BEEFLOW,\n",
    "        export_date=\"2023-01-08_18-35\",\n",
    "        tasks_count=40,\n",
    "        task_duration=10,\n",
    "        dag_ids=[\"10s_40t_30cron\"],\n",
    "        additional_metadata=\"db.small_coldstarts\",\n",
    "    ),\n",
    "    BoxPlotsEntry(\n",
    "        system=System.MWAA,\n",
    "        export_date=\"2023-01-07_19-09\",\n",
    "        tasks_count=40,\n",
    "        task_duration=10,\n",
    "        dag_ids=[\"10s_40t\"],\n",
    "        additional_metadata=\"20workers{min==max}_10task{for worker}\",\n",
    "    ),\n",
    "]"
   ]
  },
  {
   "cell_type": "code",
   "execution_count": null,
   "id": "179acbaf-10a4-41ff-bb20-674395cf6952",
   "metadata": {},
   "outputs": [],
   "source": [
    "print_tables(entries)"
   ]
  },
  {
   "cell_type": "code",
   "execution_count": null,
   "id": "46fa74f5-76ca-4e38-8493-51cad6d7063b",
   "metadata": {},
   "outputs": [],
   "source": [
    "box_plots_for(entries=entries, not_task_ids=[\"run_before_loop\"], not_dag_run_ids=[\"scheduled__2023-01-08T16:30:00+00:00\"], height=700, width=1500, hide_x_axis=True)"
   ]
  },
  {
   "cell_type": "markdown",
   "id": "3a0c7ef4-9547-4e86-a8fd-cf2a8e097152",
   "metadata": {
    "tags": []
   },
   "source": [
    "### 80 tasks"
   ]
  },
  {
   "cell_type": "code",
   "execution_count": null,
   "id": "83ab5b1b-4504-453c-a0b4-2b44d3e5acf6",
   "metadata": {},
   "outputs": [],
   "source": [
    "entries = [\n",
    "    BoxPlotsEntry(\n",
    "        system=System.BEEFLOW,\n",
    "        export_date=\"2023-01-07_20-26\",\n",
    "        tasks_count=80,\n",
    "        task_duration=10,\n",
    "        dag_ids=[\"10s_80t\"],\n",
    "        additional_metadata=\"db.small\",\n",
    "    ),\n",
    "    BoxPlotsEntry(\n",
    "        system=System.BEEFLOW,\n",
    "        export_date=\"2023-01-08_20-36\",\n",
    "        tasks_count=80,\n",
    "        task_duration=10,\n",
    "        dag_ids=[\"10s_80t_30cron\"],\n",
    "        additional_metadata=\"db.small_coldstarts\",\n",
    "    ),\n",
    "    BoxPlotsEntry(\n",
    "        system=System.MWAA,\n",
    "        export_date=\"2023-01-07_20-38\",\n",
    "        tasks_count=80,\n",
    "        task_duration=10,\n",
    "        dag_ids=[\"10s_80t\"],\n",
    "        additional_metadata=\"20workers{min==max}_10task{for worker}\",\n",
    "    ),\n",
    "]"
   ]
  },
  {
   "cell_type": "code",
   "execution_count": null,
   "id": "1fb0e935-a9fe-4de3-8ffb-08ed7b02035a",
   "metadata": {},
   "outputs": [],
   "source": [
    "print_tables(entries)"
   ]
  },
  {
   "cell_type": "code",
   "execution_count": null,
   "id": "34ae09de-707b-44a9-83fb-e725b4eb22df",
   "metadata": {},
   "outputs": [],
   "source": [
    "box_plots_for(entries=entries, \n",
    "              not_task_ids=[\"run_before_loop\"], \n",
    "              not_dag_run_ids=[\"scheduled__2023-01-08T18:30:00+00:00\"], height=700, width=1500, hide_x_axis=True)"
   ]
  },
  {
   "cell_type": "markdown",
   "id": "1a32cf76-af9e-4aa5-afdb-3b3c32bdf68f",
   "metadata": {},
   "source": [
    "### 160 tasks"
   ]
  },
  {
   "cell_type": "code",
   "execution_count": null,
   "id": "fba2801b-9456-4e9b-8cdf-e33831e8ea28",
   "metadata": {},
   "outputs": [],
   "source": [
    "entries = [\n",
    "    BoxPlotsEntry(\n",
    "        system=System.BEEFLOW,\n",
    "        export_date=\"2023-01-07_21-55\",\n",
    "        tasks_count=160,\n",
    "        task_duration=10,\n",
    "        dag_ids=[\"10s_160t\"],\n",
    "        additional_metadata=\"db.small\",\n",
    "    ),\n",
    "    BoxPlotsEntry(\n",
    "        system=System.BEEFLOW,\n",
    "        export_date=\"2023-01-08_22-38\",\n",
    "        tasks_count=160,\n",
    "        task_duration=10,\n",
    "        dag_ids=[\"10s_160t_30cron\"],\n",
    "        additional_metadata=\"db.small_coldstarts\",\n",
    "    ),\n",
    "    BoxPlotsEntry(\n",
    "        system=System.MWAA,\n",
    "        export_date=\"2023-01-07_22-07\",\n",
    "        tasks_count=160,\n",
    "        task_duration=10,\n",
    "        dag_ids=[\"10s_160t\"],\n",
    "        additional_metadata=\"20workers{min==max}_10task{for worker}\",\n",
    "    ),\n",
    "]"
   ]
  },
  {
   "cell_type": "code",
   "execution_count": null,
   "id": "c2299937-8948-42c6-8207-cfccbc92cc38",
   "metadata": {},
   "outputs": [],
   "source": [
    "print_tables(entries)"
   ]
  },
  {
   "cell_type": "code",
   "execution_count": null,
   "id": "d7daf799-5706-43d6-b39e-f5b0d8a48120",
   "metadata": {},
   "outputs": [],
   "source": [
    "box_plots_for(entries=entries, not_task_ids=[\"run_before_loop\"], \n",
    "              not_dag_run_ids=[\"scheduled__2023-01-07T21:45:00+00:00\", \"scheduled__2023-01-07T21:35:00+00:00\", \"scheduled__2023-01-08T20:30:00+00:00\"], \n",
    "              hide_x_axis=True,\n",
    "              height=700, width=1500)"
   ]
  },
  {
   "cell_type": "code",
   "execution_count": null,
   "id": "d86b9740-d45f-4197-9012-d32a447504af",
   "metadata": {},
   "outputs": [],
   "source": []
  },
  {
   "cell_type": "markdown",
   "id": "4c542aac-309e-4aa3-bab9-e6b27e2c36b8",
   "metadata": {},
   "source": [
    "## Beeflow's autoscaling is faster (parallel)"
   ]
  },
  {
   "cell_type": "code",
   "execution_count": null,
   "id": "052effee-7860-4580-87bb-a34be71626e9",
   "metadata": {},
   "outputs": [],
   "source": []
  }
 ],
 "metadata": {
  "kernelspec": {
   "display_name": "Python 3 (ipykernel)",
   "language": "python",
   "name": "python3"
  },
  "language_info": {
   "codemirror_mode": {
    "name": "ipython",
    "version": 3
   },
   "file_extension": ".py",
   "mimetype": "text/x-python",
   "name": "python",
   "nbconvert_exporter": "python",
   "pygments_lexer": "ipython3",
   "version": "3.9.10"
  }
 },
 "nbformat": 4,
 "nbformat_minor": 5
}
