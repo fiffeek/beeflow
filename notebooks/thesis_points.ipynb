{
 "cells": [
  {
   "cell_type": "markdown",
   "id": "cc120a04-81c0-4877-8c8f-03108f6e6596",
   "metadata": {
    "tags": []
   },
   "source": [
    "# Helper code"
   ]
  },
  {
   "cell_type": "code",
   "execution_count": null,
   "id": "50e353fc-9f8a-4f27-91c9-9e153ed35110",
   "metadata": {},
   "outputs": [],
   "source": [
    "from plotly.offline import init_notebook_mode; init_notebook_mode()"
   ]
  },
  {
   "cell_type": "code",
   "execution_count": null,
   "id": "4dfbed4f-00a0-43b6-bb10-4521932e3ecd",
   "metadata": {},
   "outputs": [],
   "source": [
    "CHARTS_DIRECTORY = \"charts/\" "
   ]
  },
  {
   "cell_type": "code",
   "execution_count": null,
   "id": "67e99cbe-4281-49ab-8658-7e368be01023",
   "metadata": {},
   "outputs": [],
   "source": [
    "BUCKET_NAME=\"beeflow-dev-metadata-dumps\"\n",
    "\n",
    "import pandas as pd\n",
    "import boto3\n",
    "import plotly.express as px\n",
    "\n",
    "s3 = boto3.client('s3') \n",
    "\n",
    "s3_cache = {}\n",
    "\n",
    "def get_s3_csv(file: str):\n",
    "    if file in s3_cache:\n",
    "        return s3_cache[file]\n",
    "    obj = s3.get_object(Bucket=BUCKET_NAME, Key=file)\n",
    "    df = pd.read_csv(obj['Body'])\n",
    "    s3_cache[file] = df\n",
    "    return df\n",
    "\n",
    "\n",
    "from enum import Enum\n",
    "\n",
    "class System(Enum):\n",
    "    MWAA = \"mwaa\"\n",
    "    BEEFLOW = \"serverless\"\n",
    "    \n",
    "class Stats(Enum):\n",
    "    DAG_RUNS = \"dagrun\"\n",
    "    TASKS = \"taskinstance\"\n",
    "    \n",
    "def get_stats(system: System, date: str, stats: Stats):\n",
    "    return get_s3_csv(f\"{system.value}/export/{stats.value}/dt={date}/{stats.value}.csv\")\n",
    "\n",
    "def filter_on_dag_ids(df, dag_ids):\n",
    "    return df[df['dag_id'].isin(dag_ids)]\n",
    "\n",
    "def filter_on_not_task_ids(df, task_ids):\n",
    "    return df[~df['task_id'].isin(task_ids)]\n",
    "\n",
    "def filter_on_not_dag_run_id(df, dag_run_ids):\n",
    "    return df[~df['run_id'].isin(dag_run_ids)]\n",
    "    "
   ]
  },
  {
   "cell_type": "code",
   "execution_count": null,
   "id": "f4e2e162-8bee-458e-b1d4-86bfb0e31f70",
   "metadata": {},
   "outputs": [],
   "source": [
    "def enhance_with_duration(df):\n",
    "    start_ms_time = pd.to_datetime(df['start_date'])\n",
    "    end_ms_time = pd.to_datetime(df['end_date'])\n",
    "    df['duration'] = end_ms_time.sub(start_ms_time).dt.total_seconds()\n",
    "    \n",
    "def enhance_with_wait_time_dag_runs(df):\n",
    "    queued_ms_time = pd.to_datetime(df['queued_at'])\n",
    "    end_ms_time = pd.to_datetime(df['start_date'])\n",
    "    df['wait_time'] = end_ms_time.sub(queued_ms_time).dt.total_seconds()\n",
    "    \n",
    "def enhance_with_wait_time_tasks(df):\n",
    "    queued_ms_time = pd.to_datetime(df['queued_dttm'])\n",
    "    end_ms_time = pd.to_datetime(df['start_date'])\n",
    "    df['wait_time'] = end_ms_time.sub(queued_ms_time).dt.total_seconds()"
   ]
  },
  {
   "cell_type": "code",
   "execution_count": null,
   "id": "101cbc15-0024-404e-9d78-b34c549d3c7c",
   "metadata": {},
   "outputs": [],
   "source": [
    "from dataclasses import dataclass\n",
    "from typing import List\n",
    "\n",
    "@dataclass\n",
    "class BoxPlotEntry:\n",
    "    data: pd.DataFrame\n",
    "    identifier: str\n",
    "    system: str = \"\""
   ]
  },
  {
   "cell_type": "code",
   "execution_count": null,
   "id": "65142604-16ac-42b8-9c2e-5cce3846ddac",
   "metadata": {},
   "outputs": [],
   "source": [
    "def box_plot_for(entries: List[BoxPlotEntry], measured_column=\"duration\", hide_x_axis=False, **kwargs):\n",
    "    transformed_data = []\n",
    "    for entry in entries:\n",
    "        df = entry.data.loc[:, ]\n",
    "        df[\"identifier\"] = entry.identifier\n",
    "        transformed_data.append(df)\n",
    "    transformed_data = pd.concat(transformed_data)\n",
    "    fig = px.box(transformed_data, x=\"identifier\", y=measured_column, color=\"identifier\", points=\"all\", **kwargs)\n",
    "    if hide_x_axis:\n",
    "        fig.update_xaxes(visible=False, showticklabels=False)\n",
    "    fig.show()\n",
    "    # fig.write_image(f'{kwargs[\"title\"]}.pdf')"
   ]
  },
  {
   "cell_type": "code",
   "execution_count": null,
   "id": "e3fe3ab8-9382-4144-89c5-528501b26ce1",
   "metadata": {},
   "outputs": [],
   "source": [
    "def box_plot_for_thesis(entries: List[BoxPlotEntry], measured_column=\"duration\", hide_x_axis=False, experiment_id=\"\", postprocess=None, **kwargs):\n",
    "    transformed_data = []\n",
    "    for entry in entries:\n",
    "        df = entry.data.loc[:, ]\n",
    "        df[\"identifier\"] = entry.system\n",
    "        transformed_data.append(df)\n",
    "    transformed_data = pd.concat(transformed_data)\n",
    "    fig = px.box(transformed_data, x=\"identifier\", y=measured_column, color=\"identifier\", points=\"all\", **kwargs)\n",
    "    if hide_x_axis:\n",
    "        fig.update_xaxes(visible=False, showticklabels=False)\n",
    "    fig.update_layout(showlegend=False)\n",
    "    fig.update_layout(title_text=kwargs[\"title\"], title_x=0.5)\n",
    "    fig.update_layout(xaxis_title=None,     \n",
    "                      paper_bgcolor='rgb(255, 255, 255)',\n",
    "                      plot_bgcolor='rgb(255, 255, 255)',\n",
    "                     font=dict(\n",
    "                        family='Latin Modern Math',\n",
    "                        color='black',\n",
    "                        size=32,\n",
    "                    ),)\n",
    "    fig.update_yaxes(showgrid=True, gridwidth=1, gridcolor='LightGrey')\n",
    "    fig.update_xaxes(showline=True, linewidth=2, linecolor='LightGrey', mirror=True)\n",
    "    fig.update_yaxes(showline=True, linewidth=2, linecolor='LightGrey', mirror=True)\n",
    "    if postprocess is not None:\n",
    "        postprocess(kwargs[\"title\"], fig)\n",
    "    fig.show()\n",
    "    fig.write_image(f'{CHARTS_DIRECTORY}{kwargs[\"title\"]}-{experiment_id}.pdf')"
   ]
  },
  {
   "cell_type": "code",
   "execution_count": null,
   "id": "25910beb-8958-4f63-bed2-b3b1b08f2847",
   "metadata": {},
   "outputs": [],
   "source": [
    "@dataclass\n",
    "class BoxPlotsEntry:\n",
    "    system: System\n",
    "    export_date: str\n",
    "    dag_ids: List[str]\n",
    "    task_duration: int\n",
    "    tasks_count: int\n",
    "    additional_metadata: str = \"\""
   ]
  },
  {
   "cell_type": "code",
   "execution_count": null,
   "id": "ef7aad90-d3f8-440a-8929-666e0bb6c81a",
   "metadata": {},
   "outputs": [],
   "source": [
    "def system_to_title(system):\n",
    "    if system == System.MWAA:\n",
    "        return \"MWAA\"\n",
    "    return \"Serverless\""
   ]
  },
  {
   "cell_type": "code",
   "execution_count": null,
   "id": "da73ca8f-0885-4a0a-91c4-40a5b94684a4",
   "metadata": {},
   "outputs": [],
   "source": [
    "def box_plots_for(entries: List[BoxPlotsEntry], not_task_ids, not_dag_run_ids=[], hide_x_axis=False, experiment_id=\"\", postprocess=None, **kwargs):\n",
    "    dags_data = []\n",
    "    task_duration = None\n",
    "    \n",
    "    for entry in entries:\n",
    "        task_duration = entry.task_duration\n",
    "        entry_dag_runs = filter_on_not_dag_run_id(\n",
    "            df=filter_on_dag_ids(\n",
    "                df=get_stats(system=entry.system, date=entry.export_date, stats=Stats.DAG_RUNS), \n",
    "                dag_ids=entry.dag_ids,\n",
    "            ),\n",
    "            dag_run_ids=not_dag_run_ids,\n",
    "        )\n",
    "        enhance_with_duration(entry_dag_runs)\n",
    "        enhance_with_wait_time_dag_runs(entry_dag_runs)\n",
    "        \n",
    "        dags_data.append(\n",
    "            BoxPlotEntry(\n",
    "                data=entry_dag_runs,\n",
    "                identifier=f\"{entry.system.value}_tasks:{entry.tasks_count}_duration:{entry.task_duration}_additional:{entry.additional_metadata}\",\n",
    "                system=system_to_title(entry.system),\n",
    "            )\n",
    "        )\n",
    "        \n",
    "    box_plot_for(dags_data, \n",
    "                 measured_column=\"duration\", \n",
    "                 title=\"DAG runs comparison: duration\",\n",
    "                 hover_data=[\"run_id\"],\n",
    "                 hide_x_axis=hide_x_axis,\n",
    "                 **kwargs)\n",
    "    box_plot_for_thesis(dags_data, \n",
    "                 measured_column=\"duration\", \n",
    "                 title=\"DAG run\",\n",
    "                 hover_data=[\"run_id\"],\n",
    "                 labels={\n",
    "                   \"identifier\": \"System\",\n",
    "                   \"duration\": \"Duration [s]\",\n",
    "                 },\n",
    "                 experiment_id=experiment_id,\n",
    "                 hide_x_axis=hide_x_axis,\n",
    "                 postprocess=postprocess,\n",
    "                 **kwargs)\n",
    "    \n",
    "    tasks_data = []\n",
    "    \n",
    "    for entry in entries:\n",
    "        entry_tasks = filter_on_not_dag_run_id(\n",
    "            df=filter_on_not_task_ids(\n",
    "                df=filter_on_dag_ids(\n",
    "                    df=get_stats(system=entry.system, date=entry.export_date, stats=Stats.TASKS), \n",
    "                    dag_ids=entry.dag_ids,\n",
    "                ),\n",
    "                task_ids=not_task_ids,\n",
    "            ),\n",
    "            dag_run_ids=not_dag_run_ids,\n",
    "        )\n",
    "        enhance_with_duration(entry_tasks)\n",
    "        enhance_with_wait_time_tasks(entry_tasks)\n",
    "        \n",
    "        tasks_data.append(\n",
    "            BoxPlotEntry(\n",
    "                data=entry_tasks,\n",
    "                identifier=f\"{entry.system.value}_tasks:{entry.tasks_count}_duration:{entry.task_duration}_additional:{entry.additional_metadata}\",\n",
    "                system=system_to_title(entry.system),\n",
    "            )\n",
    "        )\n",
    "    \n",
    "    box_plot_for(tasks_data,\n",
    "                 measured_column=\"duration\", \n",
    "                 title=f\"Tasks runs comparison: task duration (ideal: {task_duration}s)\",\n",
    "                 hide_x_axis=hide_x_axis,\n",
    "                 hover_data=[\"task_id\", \"run_id\"],\n",
    "                 **kwargs)\n",
    "    box_plot_for_thesis(tasks_data, \n",
    "             measured_column=\"duration\", \n",
    "             title=\"Task duration\",\n",
    "             hover_data=[\"run_id\"],\n",
    "             labels={\n",
    "               \"identifier\": \"System\",\n",
    "               \"duration\": \"Duration [s]\",\n",
    "             },\n",
    "             experiment_id=experiment_id,\n",
    "             postprocess=postprocess,\n",
    "             hide_x_axis=hide_x_axis,\n",
    "             **kwargs)\n",
    "    box_plot_for(tasks_data,\n",
    "                 measured_column=\"wait_time\", \n",
    "                 title=\"Tasks run comparision: wait time (amount of time passed from task being marked as queued to started)\",\n",
    "                 hide_x_axis=hide_x_axis,\n",
    "                 hover_data=[\"task_id\", \"run_id\"],\n",
    "                 **kwargs)\n",
    "    box_plot_for_thesis(tasks_data, \n",
    "         measured_column=\"wait_time\", \n",
    "         title=\"Wait time\",\n",
    "         hover_data=[\"run_id\"],\n",
    "         labels={\n",
    "           \"identifier\": \"System\",\n",
    "           \"wait_time\": \"Wait time [s]\",\n",
    "         },\n",
    "         experiment_id=experiment_id,\n",
    "         postprocess=postprocess,\n",
    "         hide_x_axis=hide_x_axis,\n",
    "         **kwargs)\n",
    "        "
   ]
  },
  {
   "cell_type": "code",
   "execution_count": null,
   "id": "4a388f97-1565-45cd-82b5-8600d93dfba4",
   "metadata": {},
   "outputs": [],
   "source": [
    "def trend_for(data: pd.DataFrame, x_col=\"tasks_count\", measured_column=\"duration\", **kwargs):\n",
    "    # display(data)\n",
    "    fig = px.line(data, x=x_col, y=measured_column, color=\"identifier\", **kwargs)\n",
    "    if \"hide_x_axis\" in kwargs:\n",
    "        fig.update_xaxes(visible=False, showticklabels=False)\n",
    "    fig.show()"
   ]
  },
  {
   "cell_type": "code",
   "execution_count": null,
   "id": "7c9819e3-c1f8-47a5-9881-f499c5d6ce50",
   "metadata": {},
   "outputs": [],
   "source": [
    "def trends_for(entries: List[BoxPlotsEntry], not_task_ids, not_dag_run_ids=[], **kwargs):\n",
    "    dags_data = []\n",
    "    \n",
    "    for entry in entries:\n",
    "        task_duration = entry.task_duration\n",
    "        entry_dag_runs = filter_on_not_dag_run_id(\n",
    "            df=filter_on_dag_ids(\n",
    "                df=get_stats(system=entry.system, date=entry.export_date, stats=Stats.DAG_RUNS), \n",
    "                dag_ids=entry.dag_ids,\n",
    "            ),\n",
    "            dag_run_ids=not_dag_run_ids,\n",
    "        )\n",
    "        enhance_with_duration(entry_dag_runs)\n",
    "        enhance_with_wait_time_dag_runs(entry_dag_runs)\n",
    "        \n",
    "        dags_data.append(\n",
    "            {\n",
    "                \"median_duration\": entry_dag_runs[\"duration\"].median(),\n",
    "                \"identifier\": f\"{entry.system.value}:{entry.additional_metadata}\",\n",
    "                \"tasks_count\": entry.tasks_count,\n",
    "            }\n",
    "        )\n",
    "        \n",
    "    trend_for(data=pd.DataFrame(dags_data), measured_column=\"median_duration\", title=\"Median DAG duration\", **kwargs)\n",
    "    \n",
    "    tasks_data = []\n",
    "    for entry in entries:\n",
    "        entry_tasks = filter_on_not_dag_run_id(\n",
    "            df=filter_on_not_task_ids(\n",
    "                df=filter_on_dag_ids(\n",
    "                    df=get_stats(system=entry.system, date=entry.export_date, stats=Stats.TASKS), \n",
    "                    dag_ids=entry.dag_ids,\n",
    "                ),\n",
    "                task_ids=not_task_ids,\n",
    "            ),\n",
    "            dag_run_ids=not_dag_run_ids,\n",
    "        )\n",
    "        enhance_with_duration(entry_tasks)\n",
    "        enhance_with_wait_time_tasks(entry_tasks)\n",
    "        \n",
    "        tasks_data.append(\n",
    "            {\n",
    "                \"median_duration\": entry_tasks[\"duration\"].median(),\n",
    "                \"median_wait_time\": entry_tasks[\"wait_time\"].median(),\n",
    "                \"identifier\": f\"{entry.system.value}:{entry.additional_metadata}\",\n",
    "                \"tasks_count\": entry.tasks_count,\n",
    "            }\n",
    "        )\n",
    "        \n",
    "    \n",
    "    trend_for(data=pd.DataFrame(tasks_data), measured_column=\"median_duration\", title=\"Median Tasks duration\", **kwargs)\n",
    "    trend_for(data=pd.DataFrame(tasks_data), measured_column=\"median_wait_time\", title=\"Median Tasks waittime\", **kwargs)\n",
    "    \n",
    "        "
   ]
  },
  {
   "cell_type": "code",
   "execution_count": null,
   "id": "656cf395-33a0-485f-a65b-ce185d6d5582",
   "metadata": {},
   "outputs": [],
   "source": [
    "from IPython.display import display\n",
    "\n",
    "\n",
    "def print_tables(entries: List[BoxPlotsEntry]):\n",
    "    for entry in entries:\n",
    "        entry_dag_runs = filter_on_dag_ids(\n",
    "            df=get_stats(system=entry.system, date=entry.export_date, stats=Stats.DAG_RUNS), \n",
    "            dag_ids=entry.dag_ids,\n",
    "        )\n",
    "        enhance_with_duration(entry_dag_runs)\n",
    "        print(entry.system)\n",
    "        display(entry_dag_runs[[\"duration\", \"run_id\", \"start_date\", \"end_date\", \"_state\"]])"
   ]
  },
  {
   "cell_type": "code",
   "execution_count": null,
   "id": "0fc8d86c-7334-4b69-ac78-143d348e243e",
   "metadata": {},
   "outputs": [],
   "source": [
    "@dataclass\n",
    "class HistogramEntry:\n",
    "    system: System\n",
    "    export_date: str\n",
    "    dag_ids: List[str]\n",
    "    task_duration: int\n",
    "    tasks_count: int"
   ]
  },
  {
   "cell_type": "code",
   "execution_count": null,
   "id": "9dd03d48-a06d-4395-9e21-5bf5f185c43d",
   "metadata": {},
   "outputs": [],
   "source": [
    "@dataclass\n",
    "class HistogramPlotEntry:\n",
    "    system: System\n",
    "    data: pd.DataFrame\n",
    "    task_duration: int\n",
    "    tasks_count: int\n",
    "\n",
    "\n",
    "def cross_histogram_plot_for(entries: List[HistogramPlotEntry], \n",
    "                             nbins=30, \n",
    "                             measurment_column_name=\"duration\", \n",
    "                             **kwargs):\n",
    "    transformed_data = []\n",
    "    for entry in entries:\n",
    "        df = entry.data.loc[:, [measurment_column_name]]\n",
    "        df[\"identifier\"] = f\"{entry.system.value}_tasks:{entry.tasks_count}_duration:{entry.task_duration}\"\n",
    "        transformed_data.append(df)\n",
    "    fig = px.histogram(pd.concat(transformed_data), \n",
    "                       y=measurment_column_name, \n",
    "                       color=\"identifier\", \n",
    "                       marginal=\"box\", \n",
    "                       barmode=\"group\", \n",
    "                       nbins=nbins,\n",
    "                       **kwargs,\n",
    "                      )\n",
    "    fig.show()"
   ]
  },
  {
   "cell_type": "code",
   "execution_count": null,
   "id": "a9e0d81c-83b8-4dd4-b7db-ff36530e2623",
   "metadata": {},
   "outputs": [],
   "source": [
    "def compare_runs_by_histograms_for(entries: List[HistogramEntry], not_task_ids, nbins=30, **kwargs):\n",
    "    # Draw dags\n",
    "    dags_data = []\n",
    "    for entry in entries:\n",
    "        entry_dag_runs = filter_on_dag_ids(\n",
    "            df=get_stats(system=entry.system, date=entry.export_date, stats=Stats.DAG_RUNS), \n",
    "            dag_ids=entry.dag_ids,\n",
    "        )\n",
    "        enhance_with_duration(entry_dag_runs)\n",
    "        enhance_with_wait_time_dag_runs(entry_dag_runs)\n",
    "        dags_data.append(\n",
    "            HistogramPlotEntry(\n",
    "                system=entry.system,\n",
    "                data=entry_dag_runs,\n",
    "                task_duration=entry.task_duration,\n",
    "                tasks_count=entry.tasks_count,\n",
    "            )\n",
    "        )\n",
    "    cross_histogram_plot_for(dags_data, \n",
    "                             nbins, \n",
    "                             measurment_column_name=\"duration\", \n",
    "                             title=\"DAG runs comparison: duration\",\n",
    "                             **kwargs)\n",
    "    # Tasks data\n",
    "    tasks_data = []\n",
    "    for entry in entries:\n",
    "        entry_tasks = filter_on_not_task_ids(\n",
    "            df=filter_on_dag_ids(\n",
    "                df=get_stats(system=entry.system, date=entry.export_date, stats=Stats.TASKS), \n",
    "                dag_ids=entry.dag_ids,\n",
    "            ),\n",
    "            task_ids=not_task_ids,\n",
    "        )\n",
    "        enhance_with_duration(entry_tasks)\n",
    "        enhance_with_wait_time_tasks(entry_tasks)\n",
    "        tasks_data.append(\n",
    "            HistogramPlotEntry(\n",
    "                system=entry.system,\n",
    "                data=entry_tasks,\n",
    "                task_duration=entry.task_duration,\n",
    "                tasks_count=entry.tasks_count,\n",
    "            )\n",
    "        )\n",
    "    cross_histogram_plot_for(tasks_data, \n",
    "                             nbins, \n",
    "                             measurment_column_name=\"duration\", \n",
    "                             title=\"Tasks runs comparison: duration\",\n",
    "                             **kwargs)\n",
    "    cross_histogram_plot_for(tasks_data, \n",
    "                             nbins, \n",
    "                             measurment_column_name=\"wait_time\", \n",
    "                             title=\"Tasks run comparision: wait time (start - queued)\",\n",
    "                             **kwargs)\n",
    "        "
   ]
  },
  {
   "cell_type": "code",
   "execution_count": null,
   "id": "a951916c-ab11-4091-8978-fc16dcf85983",
   "metadata": {},
   "outputs": [],
   "source": [
    "def gantt_task(df, range_x=None):\n",
    "    fig = px.timeline(df, x_start=\"start_date\", x_end=\"end_date\", color=\"run_id\", y=\"task_id\", range_x=range_x)\n",
    "    fig.update_yaxes(autorange=\"reversed\")\n",
    "    fig.show()"
   ]
  },
  {
   "cell_type": "code",
   "execution_count": null,
   "id": "292964d3-6bbb-4e97-954c-093855c9ae39",
   "metadata": {},
   "outputs": [],
   "source": [
    "@dataclass\n",
    "class TasksChartEntry:\n",
    "    system: System\n",
    "    export_date: str\n",
    "    dag_ids: List[str]\n",
    "    task_duration: int\n",
    "    tasks_count: int"
   ]
  },
  {
   "cell_type": "code",
   "execution_count": null,
   "id": "a80a3fd8-a2b4-4144-8332-dbcc115dd98c",
   "metadata": {},
   "outputs": [],
   "source": [
    "def tasks_plot(entry: TasksChartEntry, not_task_ids=[], **kwargs):\n",
    "    entry_tasks = filter_on_not_task_ids(\n",
    "        df=filter_on_dag_ids(\n",
    "            df=get_stats(system=entry.system, date=entry.export_date, stats=Stats.TASKS), \n",
    "            dag_ids=entry.dag_ids,\n",
    "        ),\n",
    "        task_ids=not_task_ids,\n",
    "    )\n",
    "    gantt_task(entry_tasks)\n",
    "    "
   ]
  },
  {
   "cell_type": "code",
   "execution_count": null,
   "id": "db70c1cf-c97b-401d-a7f4-76352a707399",
   "metadata": {},
   "outputs": [],
   "source": [
    "arrow_standard_args = dict(\n",
    "            xref=\"x\",\n",
    "            yref=\"y\",\n",
    "            text=\"cold start\",\n",
    "            showarrow=True,\n",
    "            font=dict(\n",
    "                family='Latin Modern Math',\n",
    "                color='black',\n",
    "                size=28,\n",
    "                ),\n",
    "            align=\"center\",\n",
    "            arrowhead=2,\n",
    "            arrowsize=1,\n",
    "            arrowwidth=2,\n",
    "            arrowcolor=\"black\",\n",
    "            ax=100,\n",
    "            ay=0,\n",
    "            borderwidth=0,\n",
    "            borderpad=4,\n",
    "            opacity=0.8\n",
    ")"
   ]
  },
  {
   "cell_type": "markdown",
   "id": "e0332e04-3e0b-4e84-a4f1-e309dc071124",
   "metadata": {},
   "source": [
    "# Points"
   ]
  },
  {
   "cell_type": "markdown",
   "id": "040fdb77-a50b-4c0b-b96e-03f8805c2a89",
   "metadata": {
    "tags": []
   },
   "source": [
    "## Beeflow's performance for line DAG's rivals MWAA"
   ]
  },
  {
   "cell_type": "markdown",
   "id": "3e035a38-c9b5-4e89-90d7-f6508e3dd6a3",
   "metadata": {},
   "source": [
    "A simple line chart is being executed every 5 mins (lambda is then WARM on each DAG run but first, and the only time it's cold is the first task of the first DAG run).\n",
    "1 Task in parallel runs, the chain has 1/5/10/15 tasks.\n",
    "Beeflow is finishing a the chain in rougly `N*15s` while MWAA is `N*13s`.\n",
    "For Beeflow coldstats that would be roughly `(N-1)*15s + 1(15s+coldstart)`, where `coldstart` is around `8-10s` (shown on the diagram as well).\n",
    "\n",
    "As mentioned, lambda will _possibly_ be cold only for the first task in the DAG run (as consequent tasks\n",
    "would hopefully resuse the container; and they do)."
   ]
  },
  {
   "attachments": {
    "c28181e2-402d-403f-bdde-7ecc5436749a.png": {
     "image/png": "[encoded data removed]"
    }
   },
   "cell_type": "markdown",
   "id": "0cc7ce2c-f9d3-43ef-9ffd-5d17b0659449",
   "metadata": {},
   "source": [
    "![Untitled Diagram-Page-2.drawio (1).png](attachment:c28181e2-402d-403f-bdde-7ecc5436749a.png)"
   ]
  },
  {
   "cell_type": "markdown",
   "id": "cf97d9b2-ff52-454f-9e6e-4749d08836fc",
   "metadata": {},
   "source": [
    "The following config was applied for the systems\n",
    "\n",
    "1. Beeflow\n",
    "- `db.micro` (free tier), enough to handle 1 concurrent task!\n",
    "- beeflow lambdas for scheduler uses: 512MB mem -> ~1/3 vCPU\n",
    "- beeflow worker lambdas use: 512MB mem -> ~1/3 vCPU (but the only thing they do is sleep)\n",
    "\n",
    "2. MWAA\n",
    "- small environment (limits scheduler to 1vCPU)\n",
    "- 1 workers min, 1 workers max\n",
    "- 5 tasks per worker (default)\n",
    "- one worker has 1 vCPU and 2GB RAM "
   ]
  },
  {
   "cell_type": "markdown",
   "id": "971545e1-3532-4781-837a-b1840b40833e",
   "metadata": {},
   "source": [
    "### 1 task"
   ]
  },
  {
   "cell_type": "code",
   "execution_count": null,
   "id": "fc748b2f-506e-4077-aedb-7b9af945ddcd",
   "metadata": {},
   "outputs": [],
   "source": [
    "entries = [\n",
    "    BoxPlotsEntry(\n",
    "        system=System.BEEFLOW,\n",
    "        export_date=\"2023-03-12_18-48\",\n",
    "        tasks_count=1,\n",
    "        task_duration=10,\n",
    "        dag_ids=[\"10s_1t_line\"]\n",
    "    ),\n",
    "    BoxPlotsEntry(\n",
    "        system=System.MWAA,\n",
    "        export_date=\"2023-03-12_19-01\",\n",
    "        tasks_count=1,\n",
    "        task_duration=10,\n",
    "        dag_ids=[\"10s_1t_line\"]\n",
    "    ),\n",
    "]"
   ]
  },
  {
   "cell_type": "code",
   "execution_count": null,
   "id": "6102b99e-8bdb-4df0-9b70-0a9a164f1040",
   "metadata": {},
   "outputs": [],
   "source": [
    "box_plots_for(entries=entries, not_task_ids=[], height=600, width=700, not_dag_run_ids=[\"scheduled__2023-03-12T17:35:00+00:00\", \"scheduled__2023-03-12T17:40:00+00:00\"], experiment_id=\"1task_line\")"
   ]
  },
  {
   "cell_type": "code",
   "execution_count": null,
   "id": "20ba2c97-7a5c-4bbf-82a4-c9fe29ac8e5a",
   "metadata": {},
   "outputs": [],
   "source": [
    "def postprocess(title, fig):\n",
    "    \n",
    "    if title ==  \"DAG run\":\n",
    "        fig.add_annotation(\n",
    "            x=-0.30,\n",
    "            y=24.95,\n",
    "            **arrow_standard_args,\n",
    "        )\n",
    "        \n",
    "    if title ==  \"Wait time\":\n",
    "        fig.add_annotation(\n",
    "            x=-0.30,\n",
    "            y=11.36,\n",
    "            **arrow_standard_args,\n",
    "        )\n",
    "        \n",
    "\n",
    "box_plots_for(entries=entries, not_task_ids=[], height=600, width=700, not_dag_run_ids=[\"scheduled__2023-03-12T17:35:00+00:00\"], experiment_id=\"1task_line_withcold\", postprocess=postprocess)"
   ]
  },
  {
   "cell_type": "markdown",
   "id": "5bf84e33-1f48-4608-94fe-52f16b1ba1d7",
   "metadata": {
    "tags": []
   },
   "source": [
    "### 5 tasks"
   ]
  },
  {
   "cell_type": "code",
   "execution_count": null,
   "id": "5502685f-1aff-4074-a3ee-56c26b0422ea",
   "metadata": {},
   "outputs": [],
   "source": [
    "entries = [\n",
    "    BoxPlotsEntry(\n",
    "        system=System.BEEFLOW,\n",
    "        export_date=\"2023-03-12_20-19\",\n",
    "        tasks_count=5,\n",
    "        task_duration=10,\n",
    "        dag_ids=[\"10s_5t_line\"]\n",
    "    ),\n",
    "    BoxPlotsEntry(\n",
    "        system=System.MWAA,\n",
    "        export_date=\"2023-03-12_20-30\",\n",
    "        tasks_count=5,\n",
    "        task_duration=10,\n",
    "        dag_ids=[\"10s_5t_line\"]\n",
    "    ),\n",
    "]"
   ]
  },
  {
   "cell_type": "code",
   "execution_count": null,
   "id": "e0f93bdc-fc92-4199-b8f4-ed032947a892",
   "metadata": {},
   "outputs": [],
   "source": [
    "box_plots_for(entries=entries, not_task_ids=[], height=700, width=700, not_dag_run_ids=[\"scheduled__2023-03-12T19:05:00+00:00\"], experiment_id=\"5task_line\")"
   ]
  },
  {
   "cell_type": "markdown",
   "id": "94f89da6-b121-4cfa-a861-e5a6d835ead7",
   "metadata": {},
   "source": [
    "### 10 tasks"
   ]
  },
  {
   "cell_type": "code",
   "execution_count": null,
   "id": "700eef2d-58f1-419e-af61-b61d2a9e7a3d",
   "metadata": {},
   "outputs": [],
   "source": [
    "entries = [\n",
    "    BoxPlotsEntry(\n",
    "        system=System.BEEFLOW,\n",
    "        export_date=\"2023-03-12_21-48\",\n",
    "        tasks_count=10,\n",
    "        task_duration=10,\n",
    "        dag_ids=[\"10s_10t_line\"]\n",
    "    ),\n",
    "    BoxPlotsEntry(\n",
    "        system=System.MWAA,\n",
    "        export_date=\"2023-03-12_21-59\",\n",
    "        tasks_count=10,\n",
    "        task_duration=10,\n",
    "        dag_ids=[\"10s_10t_line\"]\n",
    "    ),\n",
    "]"
   ]
  },
  {
   "cell_type": "code",
   "execution_count": null,
   "id": "3fefdc36-cb1b-428a-8de2-66ff2896e6f6",
   "metadata": {},
   "outputs": [],
   "source": [
    "box_plots_for(entries=entries, not_task_ids=[], height=700, width=700, not_dag_run_ids=[\"scheduled__2023-03-12T20:35:00+00:00\"], experiment_id=\"10task_line\")"
   ]
  },
  {
   "cell_type": "markdown",
   "id": "36352ff4-0a52-474e-abca-37675e37e560",
   "metadata": {},
   "source": [
    "### 15 tasks"
   ]
  },
  {
   "cell_type": "code",
   "execution_count": null,
   "id": "e05a437e-0eb8-4319-a04b-a28866da0cc6",
   "metadata": {},
   "outputs": [],
   "source": [
    "entries = [\n",
    "    BoxPlotsEntry(\n",
    "        system=System.MWAA,\n",
    "        export_date=\"2022-12-11_20-45\",\n",
    "        tasks_count=15,\n",
    "        task_duration=10,\n",
    "        dag_ids=[\"10s_15t_line\"]\n",
    "    ),\n",
    "    BoxPlotsEntry(\n",
    "        system=System.BEEFLOW,\n",
    "        export_date=\"2022-12-28_16-43\",\n",
    "        tasks_count=15,\n",
    "        task_duration=10,\n",
    "        dag_ids=[\"10s_15t_line\"]\n",
    "    ),\n",
    "]"
   ]
  },
  {
   "cell_type": "code",
   "execution_count": null,
   "id": "056df458-d465-40c0-97b7-e8fcdc55e075",
   "metadata": {},
   "outputs": [],
   "source": [
    "box_plots_for(entries=entries, not_task_ids=[], height=700, width=1500)"
   ]
  },
  {
   "cell_type": "markdown",
   "id": "46b01f70-12b7-4a53-adf4-44488efd7024",
   "metadata": {},
   "source": [
    "### Trends"
   ]
  },
  {
   "cell_type": "code",
   "execution_count": null,
   "id": "d8ab29d7-28eb-4025-a061-99ef22007b9b",
   "metadata": {},
   "outputs": [],
   "source": [
    "entries = [\n",
    "    BoxPlotsEntry(\n",
    "        system=System.MWAA,\n",
    "        export_date=\"2022-12-11_17-47\",\n",
    "        tasks_count=5,\n",
    "        task_duration=10,\n",
    "        dag_ids=[\"10s_5t_line\"]\n",
    "    ),\n",
    "    BoxPlotsEntry(\n",
    "        system=System.BEEFLOW,\n",
    "        export_date=\"2022-12-28_13-52\",\n",
    "        tasks_count=5,\n",
    "        task_duration=10,\n",
    "        dag_ids=[\"10s_5t_line\"]\n",
    "    ),\n",
    "    BoxPlotsEntry(\n",
    "        system=System.MWAA,\n",
    "        export_date=\"2022-12-11_19-16\",\n",
    "        tasks_count=10,\n",
    "        task_duration=10,\n",
    "        dag_ids=[\"10s_10t_line\"]\n",
    "    ),\n",
    "    BoxPlotsEntry(\n",
    "        system=System.BEEFLOW,\n",
    "        export_date=\"2022-12-28_15-24\",\n",
    "        tasks_count=10,\n",
    "        task_duration=10,\n",
    "        dag_ids=[\"10s_10t_line\"]\n",
    "    ),\n",
    "    BoxPlotsEntry(\n",
    "        system=System.MWAA,\n",
    "        export_date=\"2022-12-11_20-45\",\n",
    "        tasks_count=15,\n",
    "        task_duration=10,\n",
    "        dag_ids=[\"10s_15t_line\"]\n",
    "    ),\n",
    "    BoxPlotsEntry(\n",
    "        system=System.BEEFLOW,\n",
    "        export_date=\"2022-12-28_16-43\",\n",
    "        tasks_count=15,\n",
    "        task_duration=10,\n",
    "        dag_ids=[\"10s_15t_line\"]\n",
    "    ),\n",
    "]"
   ]
  },
  {
   "cell_type": "code",
   "execution_count": null,
   "id": "7678e1c2-f958-446a-8d53-cc2677f81fae",
   "metadata": {},
   "outputs": [],
   "source": [
    "trends_for(entries=entries, not_task_ids=[])"
   ]
  },
  {
   "cell_type": "markdown",
   "id": "85d4af10-fcc1-4a68-9dea-df0ac960f6d0",
   "metadata": {
    "tags": []
   },
   "source": [
    " ## Beeflow's more performant for warm starts (parallel)"
   ]
  },
  {
   "attachments": {
    "2fcbc691-7c93-453d-9b96-834330bec01b.png": {
     "image/png": "[encoded data removed]"
    }
   },
   "cell_type": "markdown",
   "id": "61df7dd4-37e1-48d3-8813-b202d0774fb5",
   "metadata": {},
   "source": [
    "![Untitled Diagram.drawio (2).png](attachment:2fcbc691-7c93-453d-9b96-834330bec01b.png)\n",
    "\n",
    "For this experiment, the following configuration was applied:\n",
    "\n",
    "1. Beeflow\n",
    "- `db.small` was used instead of `db.micro`\n",
    "- the DB allows  for  around 170 concurrent connections, the cost of `db.micro` is `~14$`, while `db.small` is double that (`28`)\n",
    "- `db.micro` is free under the free tier, that allows for `~85` concurrent connections, so highly parallel tests were throttled heavily\n",
    "- `MWAA` seems to use something between `db.small` and `db.medium` (pulled from metrics, there is no official info on this)\n",
    "- thus the comparision is fair, more on this later, the db is the single point of failure and the bottleneck of the system\n",
    "- another possibility and what MWAA leverages is [a managed proxy service on AWS](https://aws.amazon.com/rds/proxy/) but GCP doesn't seem to have the equivalent (TO CONFIRM)\n",
    "- the proxy costs `21$+` a month, so the `db.small` upgrade was chosen\n",
    "- the rest of the setup stays the same\n",
    "- beeflow lambdas for scheduler uses: 512MB mem -> ~1/3 vCPU\n",
    "- beeflow worker lambdas use: 512MB mem -> ~1/3 vCPU (but the only thing they do is sleep)\n",
    "\n",
    "2. MWAA\n",
    "- small environment (limits scheduler to 1vCPU)\n",
    "- 20 workers min, 20 workers max\n",
    "- 10 tasks per worker\n",
    "- one worker has 1 vCPU and 2GB RAM (but again, the tasks in both sleep, so it doesn't matter much)"
   ]
  },
  {
   "cell_type": "markdown",
   "id": "e287a776-2a89-4d69-83bb-849e66cdb390",
   "metadata": {
    "tags": []
   },
   "source": [
    "### 16 tasks"
   ]
  },
  {
   "cell_type": "code",
   "execution_count": null,
   "id": "f291959e-0c1b-475f-8101-5bf4f6f6e5ac",
   "metadata": {},
   "outputs": [],
   "source": [
    "entries = [\n",
    "    BoxPlotsEntry(\n",
    "        system=System.BEEFLOW,\n",
    "        export_date=\"2023-03-14_15-04\",\n",
    "        tasks_count=16,\n",
    "        task_duration=10,\n",
    "        dag_ids=[\"10s_16t\"],\n",
    "        additional_metadata=\"db.small\",\n",
    "    ),\n",
    "    BoxPlotsEntry(\n",
    "        system=System.MWAA,\n",
    "        export_date=\"2023-03-14_15-15\",\n",
    "        tasks_count=16,\n",
    "        task_duration=10,\n",
    "        dag_ids=[\"10s_16t\"],\n",
    "        additional_metadata=\"20workers{min==max}_10task{for worker}\",\n",
    "    ),\n",
    "]"
   ]
  },
  {
   "cell_type": "code",
   "execution_count": null,
   "id": "a02e7ad4-edfd-4d80-9df5-3ae61b184325",
   "metadata": {},
   "outputs": [],
   "source": [
    "box_plots_for(entries=entries, not_task_ids=[\"run_before_loop\"], height=700, width=700, not_dag_run_ids=[\"scheduled__2023-03-14T13:50:00+00:00\"], experiment_id=\"16task_parallel\")"
   ]
  },
  {
   "cell_type": "markdown",
   "id": "7188cba4-7374-4853-a9bb-b69f7ac5767d",
   "metadata": {
    "tags": []
   },
   "source": [
    "### 32 tasks"
   ]
  },
  {
   "cell_type": "code",
   "execution_count": null,
   "id": "b412a551-4964-4e2b-b71a-a231d4183555",
   "metadata": {},
   "outputs": [],
   "source": [
    "entries = [\n",
    "    BoxPlotsEntry(\n",
    "        system=System.BEEFLOW,\n",
    "        export_date=\"2023-03-14_16-33\",\n",
    "        tasks_count=32,\n",
    "        task_duration=10,\n",
    "        dag_ids=[\"10s_32t\"],\n",
    "        additional_metadata=\"db.small\",\n",
    "    ),\n",
    "    BoxPlotsEntry(\n",
    "        system=System.MWAA,\n",
    "        export_date=\"2023-03-14_16-44\",\n",
    "        tasks_count=32,\n",
    "        task_duration=10,\n",
    "        dag_ids=[\"10s_32t\"],\n",
    "        additional_metadata=\"20workers{min==max}_10task{for worker}\",\n",
    "    ),\n",
    "]"
   ]
  },
  {
   "cell_type": "code",
   "execution_count": null,
   "id": "e9fde789-0a89-4ad6-92ae-6711a37c2d02",
   "metadata": {},
   "outputs": [],
   "source": [
    "box_plots_for(entries=entries, not_task_ids=[\"run_before_loop\"], height=700, width=700, not_dag_run_ids=[\"scheduled__2023-03-14T15:20:00+00:00\"], experiment_id=\"32task_parallel\")"
   ]
  },
  {
   "cell_type": "markdown",
   "id": "540601c3-0984-461d-829a-9bd24a20f7ca",
   "metadata": {
    "tags": []
   },
   "source": [
    "### 64 tasks"
   ]
  },
  {
   "cell_type": "code",
   "execution_count": null,
   "id": "17415ba7-69d7-4895-8c8e-8d131fe55c66",
   "metadata": {},
   "outputs": [],
   "source": [
    "entries = [\n",
    "    BoxPlotsEntry(\n",
    "        system=System.BEEFLOW,\n",
    "        export_date=\"2023-03-14_18-02\",\n",
    "        tasks_count=64,\n",
    "        task_duration=10,\n",
    "        dag_ids=[\"10s_64t\"],\n",
    "        additional_metadata=\"db.small\",\n",
    "    ),\n",
    "    BoxPlotsEntry(\n",
    "        system=System.MWAA,\n",
    "        export_date=\"2023-03-14_18-13\",\n",
    "        tasks_count=64,\n",
    "        task_duration=10,\n",
    "        dag_ids=[\"10s_64t\"],\n",
    "        additional_metadata=\"20workers{min==max}_10task{for worker}\",\n",
    "    ),\n",
    "]"
   ]
  },
  {
   "cell_type": "code",
   "execution_count": null,
   "id": "bbb7404f-7e34-4697-bb3c-947a3d1ca56e",
   "metadata": {},
   "outputs": [],
   "source": [
    "box_plots_for(entries=entries, not_task_ids=[\"run_before_loop\"], height=700, width=700, not_dag_run_ids=[\"scheduled__2023-03-14T16:50:00+00:00\"], experiment_id=\"64task_parallel\")"
   ]
  },
  {
   "cell_type": "code",
   "execution_count": null,
   "id": "c5f20cac-9305-4a8d-bc32-474b6d2b6bf2",
   "metadata": {},
   "outputs": [],
   "source": [
    "entries = [\n",
    "    BoxPlotsEntry(\n",
    "        system=System.BEEFLOW,\n",
    "        export_date=\"2023-01-19_14-12\",\n",
    "        tasks_count=64,\n",
    "        task_duration=30,\n",
    "        dag_ids=[\"30s_64t\"],\n",
    "        additional_metadata=\"db.small\",\n",
    "    ),\n",
    "    BoxPlotsEntry(\n",
    "        system=System.MWAA,\n",
    "        export_date=\"2023-01-19_14-24\",\n",
    "        tasks_count=64,\n",
    "        task_duration=30,\n",
    "        dag_ids=[\"30s_64t\"],\n",
    "        additional_metadata=\"20workers{min==max}_10task{for worker}\",\n",
    "    ),\n",
    "]"
   ]
  },
  {
   "cell_type": "code",
   "execution_count": null,
   "id": "e823fa14-5780-460e-b7e1-ed053e27f159",
   "metadata": {},
   "outputs": [],
   "source": [
    "box_plots_for(entries=entries, not_task_ids=[\"run_before_loop\"], height=700, width=1500)"
   ]
  },
  {
   "cell_type": "markdown",
   "id": "3f1f0f6a-6494-454d-809c-be1728d5977c",
   "metadata": {
    "tags": []
   },
   "source": [
    "### 125 tasks\n",
    "\n",
    "In this case MWAA also started to throw some transient errors, 2 DAG runs have not finished in time,\n",
    "a couple of tasks run for ~5minutes. Excluding these from the diagram for the sake of a proper comparison"
   ]
  },
  {
   "cell_type": "code",
   "execution_count": null,
   "id": "4a7ed77a-37a2-4fdc-abed-c6903729d0e2",
   "metadata": {},
   "outputs": [],
   "source": [
    "entries = [\n",
    "    BoxPlotsEntry(\n",
    "        system=System.BEEFLOW,\n",
    "        export_date=\"2023-03-14_19-31\",\n",
    "        tasks_count=125,\n",
    "        task_duration=10,\n",
    "        dag_ids=[\"10s_125t\"],\n",
    "        additional_metadata=\"db.small\",\n",
    "    ),\n",
    "    BoxPlotsEntry(\n",
    "        system=System.MWAA,\n",
    "        export_date=\"2023-03-14_19-42\",\n",
    "        tasks_count=125,\n",
    "        task_duration=10,\n",
    "        dag_ids=[\"10s_125t\"],\n",
    "        additional_metadata=\"20workers{min==max}_10task{for worker}\",\n",
    "    ),\n",
    "]"
   ]
  },
  {
   "cell_type": "code",
   "execution_count": null,
   "id": "a3f7bbd4-df4d-48be-902d-658f95617ab8",
   "metadata": {},
   "outputs": [],
   "source": [
    "box_plots_for(entries=entries, not_task_ids=[\"run_before_loop\"], height=700, width=700, not_dag_run_ids=[\"scheduled__2023-03-14T18:20:00+00:00\", \"scheduled__2023-03-14T18:15:00+00:00\", \"scheduled__2023-03-14T18:25:00+00:00\"], experiment_id=\"125task_parallel\")"
   ]
  },
  {
   "cell_type": "code",
   "execution_count": null,
   "id": "3266cf68-f57e-4f8d-8c45-006faf9c3a7a",
   "metadata": {},
   "outputs": [],
   "source": [
    "entry = TasksChartEntry(\n",
    "        system=System.MWAA,\n",
    "        export_date=\"2023-01-17_18-19\",\n",
    "        tasks_count=125,\n",
    "        task_duration=10,\n",
    "        dag_ids=[\"10s_125t\"],\n",
    "    )\n",
    "\n",
    "tasks_plot(entry)"
   ]
  },
  {
   "cell_type": "code",
   "execution_count": null,
   "id": "b6e9a4b9-0ce1-4927-88a3-6b9509eaa681",
   "metadata": {},
   "outputs": [],
   "source": [
    "entry = TasksChartEntry(\n",
    "        system=System.BEEFLOW,\n",
    "        export_date=\"2023-01-17_18-08\",\n",
    "        tasks_count=125,\n",
    "        task_duration=10,\n",
    "        dag_ids=[\"10s_125t\"],\n",
    "    )\n",
    "\n",
    "tasks_plot(entry)"
   ]
  },
  {
   "cell_type": "code",
   "execution_count": null,
   "id": "8317c1f0-58aa-41c6-a8b0-8b272c7ebe64",
   "metadata": {},
   "outputs": [],
   "source": [
    "entries = [\n",
    "    BoxPlotsEntry(\n",
    "        system=System.BEEFLOW,\n",
    "        export_date=\"2023-01-19_15-42\",\n",
    "        tasks_count=125,\n",
    "        task_duration=30,\n",
    "        dag_ids=[\"30s_125t\"],\n",
    "        additional_metadata=\"db.small\",\n",
    "    ),\n",
    "    BoxPlotsEntry(\n",
    "        system=System.MWAA,\n",
    "        export_date=\"2023-01-19_15-53\",\n",
    "        tasks_count=125,\n",
    "        task_duration=30,\n",
    "        dag_ids=[\"30s_125t\"],\n",
    "        additional_metadata=\"20workers{min==max}_10task{for worker}\",\n",
    "    ),\n",
    "]"
   ]
  },
  {
   "cell_type": "code",
   "execution_count": null,
   "id": "7ad4a338-7243-4b9d-a3a0-9801cd0fe2e9",
   "metadata": {},
   "outputs": [],
   "source": [
    "box_plots_for(entries=entries, \n",
    "              not_task_ids=[\"run_before_loop\"], \n",
    "              not_dag_run_ids=[\"scheduled__2023-01-07T21:45:00+00:00\", \"scheduled__2023-01-07T21:35:00+00:00\"], \n",
    "              height=700, \n",
    "              width=1500)"
   ]
  },
  {
   "cell_type": "markdown",
   "id": "179cfb48-eabc-45f2-a272-c6efa9095f02",
   "metadata": {
    "tags": []
   },
   "source": [
    "### Trends"
   ]
  },
  {
   "cell_type": "code",
   "execution_count": null,
   "id": "90f6272f-712a-49ee-8c6b-1243b380a176",
   "metadata": {},
   "outputs": [],
   "source": [
    "entries = [\n",
    "    BoxPlotsEntry(\n",
    "        system=System.BEEFLOW,\n",
    "        export_date=\"2023-01-17_13-40\",\n",
    "        tasks_count=16,\n",
    "        task_duration=10,\n",
    "        dag_ids=[\"10s_16t\"],\n",
    "    ),\n",
    "    BoxPlotsEntry(\n",
    "        system=System.MWAA,\n",
    "        export_date=\"2023-01-17_13-52\",\n",
    "        tasks_count=16,\n",
    "        task_duration=10,\n",
    "        dag_ids=[\"10s_16t\"],\n",
    "    ),\n",
    "    BoxPlotsEntry(\n",
    "        system=System.BEEFLOW,\n",
    "        export_date=\"2023-01-17_15-10\",\n",
    "        tasks_count=32,\n",
    "        task_duration=10,\n",
    "        dag_ids=[\"10s_32t\"],\n",
    "    ),\n",
    "    BoxPlotsEntry(\n",
    "        system=System.MWAA,\n",
    "        export_date=\"2023-01-17_15-21\",\n",
    "        tasks_count=32,\n",
    "        task_duration=10,\n",
    "        dag_ids=[\"10s_32t\"],\n",
    "    ),\n",
    "    BoxPlotsEntry(\n",
    "        system=System.BEEFLOW,\n",
    "        export_date=\"2023-01-17_16-39\",\n",
    "        tasks_count=64,\n",
    "        task_duration=10,\n",
    "        dag_ids=[\"10s_64t\"],\n",
    "    ),\n",
    "    BoxPlotsEntry(\n",
    "        system=System.MWAA,\n",
    "        export_date=\"2023-01-17_16-50\",\n",
    "        tasks_count=64,\n",
    "        task_duration=10,\n",
    "        dag_ids=[\"10s_64t\"],\n",
    "    ),\n",
    "    BoxPlotsEntry(\n",
    "        system=System.BEEFLOW,\n",
    "        export_date=\"2023-01-17_18-08\",\n",
    "        tasks_count=125,\n",
    "        task_duration=10,\n",
    "        dag_ids=[\"10s_125t\"],\n",
    "    ),\n",
    "    BoxPlotsEntry(\n",
    "        system=System.MWAA,\n",
    "        export_date=\"2023-01-17_18-19\",\n",
    "        tasks_count=125,\n",
    "        task_duration=10,\n",
    "        dag_ids=[\"10s_125t\"],\n",
    "    ),\n",
    "]"
   ]
  },
  {
   "cell_type": "code",
   "execution_count": null,
   "id": "fdcc710e-d102-4f0b-a3b6-ae6672cd1f93",
   "metadata": {},
   "outputs": [],
   "source": [
    "trends_for(entries, not_task_ids=[])"
   ]
  },
  {
   "cell_type": "markdown",
   "id": "b57c869f-6fd6-450a-b953-c3a3826d7934",
   "metadata": {},
   "source": [
    "## Beeflow's performance for cold stars rivals warm MWAA environment (parallel)"
   ]
  },
  {
   "cell_type": "markdown",
   "id": "6cb21feb-1833-41be-8e45-842402db6cc2",
   "metadata": {},
   "source": [
    "The setup in this experiment is exactly the same as in the previous one with warm start.\n",
    "The difference is that the DAG was running on 30mins cron, instead of 5mins, thus, making\n",
    "all the lambda start from `cold` invocations for each subsystem in Beeflow."
   ]
  },
  {
   "cell_type": "markdown",
   "id": "8f6b9c12-ab37-4383-b2d2-432bd0d35225",
   "metadata": {
    "tags": []
   },
   "source": [
    "### 16 tasks"
   ]
  },
  {
   "cell_type": "code",
   "execution_count": null,
   "id": "ed9721f2-f056-416e-aa4d-f9d455f194c6",
   "metadata": {},
   "outputs": [],
   "source": [
    "entries = [\n",
    "    BoxPlotsEntry(\n",
    "        system=System.BEEFLOW,\n",
    "        export_date=\"2023-01-17_13-40\",\n",
    "        tasks_count=16,\n",
    "        task_duration=10,\n",
    "        dag_ids=[\"10s_16t\"],\n",
    "        additional_metadata=\"db.small\",\n",
    "    ),\n",
    "    BoxPlotsEntry(\n",
    "        system=System.BEEFLOW,\n",
    "        export_date=\"2023-01-18_12-18\",\n",
    "        tasks_count=16,\n",
    "        task_duration=10,\n",
    "        dag_ids=[\"10s_16t_30cron\"],\n",
    "        additional_metadata=\"db.small.coldstart\",\n",
    "    ),\n",
    "    BoxPlotsEntry(\n",
    "        system=System.MWAA,\n",
    "        export_date=\"2023-01-17_13-52\",\n",
    "        tasks_count=16,\n",
    "        task_duration=10,\n",
    "        dag_ids=[\"10s_16t\"],\n",
    "        additional_metadata=\"25workers{min==max}_5task{for worker}\",\n",
    "    ),\n",
    "]"
   ]
  },
  {
   "cell_type": "code",
   "execution_count": null,
   "id": "3b489c6d-014b-4d79-86a9-d320061c52e2",
   "metadata": {},
   "outputs": [],
   "source": [
    "box_plots_for(entries=entries, not_task_ids=[\"run_before_loop\"], not_dag_run_ids=[\"scheduled__2023-01-08T14:30:00+00:00\"], height=700, width=1500, hide_x_axis=True)"
   ]
  },
  {
   "cell_type": "markdown",
   "id": "a105b982-fc98-4c6f-a9ea-cf69d7443a33",
   "metadata": {
    "jp-MarkdownHeadingCollapsed": true,
    "tags": []
   },
   "source": [
    "### 32 tasks"
   ]
  },
  {
   "cell_type": "code",
   "execution_count": null,
   "id": "66c96574-e51a-46de-b5b2-88d577ae13e7",
   "metadata": {},
   "outputs": [],
   "source": [
    "entries = [\n",
    "    BoxPlotsEntry(\n",
    "        system=System.BEEFLOW,\n",
    "        export_date=\"2023-01-17_15-10\",\n",
    "        tasks_count=32,\n",
    "        task_duration=10,\n",
    "        dag_ids=[\"10s_32t\"],\n",
    "        additional_metadata=\"db.small\",\n",
    "    ),\n",
    "    BoxPlotsEntry(\n",
    "        system=System.BEEFLOW,\n",
    "        export_date=\"2023-01-18_14-19\",\n",
    "        tasks_count=32,\n",
    "        task_duration=10,\n",
    "        dag_ids=[\"10s_32t_30cron\"],\n",
    "        additional_metadata=\"db.small.coldstarts\",\n",
    "    ),\n",
    "    BoxPlotsEntry(\n",
    "        system=System.MWAA,\n",
    "        export_date=\"2023-01-17_15-21\",\n",
    "        tasks_count=32,\n",
    "        task_duration=10,\n",
    "        dag_ids=[\"10s_32t\"],\n",
    "        additional_metadata=\"20workers{min==max}_10task{for worker}\",\n",
    "    ),\n",
    "]"
   ]
  },
  {
   "cell_type": "code",
   "execution_count": null,
   "id": "46fa74f5-76ca-4e38-8493-51cad6d7063b",
   "metadata": {},
   "outputs": [],
   "source": [
    "box_plots_for(entries=entries, not_task_ids=[\"run_before_loop\"], height=700, width=1500, hide_x_axis=True)"
   ]
  },
  {
   "cell_type": "markdown",
   "id": "3a0c7ef4-9547-4e86-a8fd-cf2a8e097152",
   "metadata": {
    "jp-MarkdownHeadingCollapsed": true,
    "tags": []
   },
   "source": [
    "### 64 tasks"
   ]
  },
  {
   "cell_type": "code",
   "execution_count": null,
   "id": "83ab5b1b-4504-453c-a0b4-2b44d3e5acf6",
   "metadata": {},
   "outputs": [],
   "source": [
    "entries = [\n",
    "    BoxPlotsEntry(\n",
    "        system=System.BEEFLOW,\n",
    "        export_date=\"2023-01-17_16-39\",\n",
    "        tasks_count=64,\n",
    "        task_duration=10,\n",
    "        dag_ids=[\"10s_64t\"],\n",
    "        additional_metadata=\"db.small\",\n",
    "    ),\n",
    "    BoxPlotsEntry(\n",
    "        system=System.BEEFLOW,\n",
    "        export_date=\"2023-01-18_16-20\",\n",
    "        tasks_count=64,\n",
    "        task_duration=10,\n",
    "        dag_ids=[\"10s_64t_30cron\"],\n",
    "        additional_metadata=\"db.small.coldstarts\",\n",
    "    ),\n",
    "    BoxPlotsEntry(\n",
    "        system=System.MWAA,\n",
    "        export_date=\"2023-01-17_16-50\",\n",
    "        tasks_count=64,\n",
    "        task_duration=10,\n",
    "        dag_ids=[\"10s_64t\"],\n",
    "        additional_metadata=\"20workers{min==max}_10task{for worker}\",\n",
    "    ),\n",
    "]"
   ]
  },
  {
   "cell_type": "code",
   "execution_count": null,
   "id": "34ae09de-707b-44a9-83fb-e725b4eb22df",
   "metadata": {},
   "outputs": [],
   "source": [
    "box_plots_for(entries=entries, \n",
    "              not_task_ids=[\"run_before_loop\"], \n",
    "              not_dag_run_ids=[\"scheduled__2023-01-08T18:30:00+00:00\"], height=700, width=1500, hide_x_axis=True)"
   ]
  },
  {
   "cell_type": "markdown",
   "id": "1a32cf76-af9e-4aa5-afdb-3b3c32bdf68f",
   "metadata": {
    "tags": []
   },
   "source": [
    "### 125 tasks"
   ]
  },
  {
   "cell_type": "code",
   "execution_count": null,
   "id": "fba2801b-9456-4e9b-8cdf-e33831e8ea28",
   "metadata": {},
   "outputs": [],
   "source": [
    "entries = [\n",
    "    BoxPlotsEntry(\n",
    "        system=System.BEEFLOW,\n",
    "        export_date=\"2023-01-17_18-08\",\n",
    "        tasks_count=125,\n",
    "        task_duration=10,\n",
    "        dag_ids=[\"10s_125t\"],\n",
    "        additional_metadata=\"db.small\",\n",
    "    ),\n",
    "    BoxPlotsEntry(\n",
    "        system=System.BEEFLOW,\n",
    "        export_date=\"2023-01-18_18-21\",\n",
    "        tasks_count=125,\n",
    "        task_duration=10,\n",
    "        dag_ids=[\"10s_125t_30cron\"],\n",
    "        additional_metadata=\"db.small.coldstarts\",\n",
    "    ),\n",
    "    BoxPlotsEntry(\n",
    "        system=System.MWAA,\n",
    "        export_date=\"2023-01-17_18-19\",\n",
    "        tasks_count=125,\n",
    "        task_duration=10,\n",
    "        dag_ids=[\"10s_125t\"],\n",
    "        additional_metadata=\"20workers{min==max}_10task{for worker}\",\n",
    "    ),\n",
    "]"
   ]
  },
  {
   "cell_type": "code",
   "execution_count": null,
   "id": "d7daf799-5706-43d6-b39e-f5b0d8a48120",
   "metadata": {},
   "outputs": [],
   "source": [
    "box_plots_for(entries=entries, not_task_ids=[\"run_before_loop\"], \n",
    "              not_dag_run_ids=[\"scheduled__2023-01-07T21:45:00+00:00\", \"scheduled__2023-01-07T21:35:00+00:00\", \"scheduled__2023-01-08T20:30:00+00:00\"], \n",
    "              hide_x_axis=True,\n",
    "              height=700, width=1500)"
   ]
  },
  {
   "cell_type": "markdown",
   "id": "276934d7-d1a3-4a51-bef3-bb94067db253",
   "metadata": {
    "jp-MarkdownHeadingCollapsed": true,
    "tags": []
   },
   "source": [
    "### Trends"
   ]
  },
  {
   "cell_type": "code",
   "execution_count": null,
   "id": "e1200fc6-45f7-4817-bcb8-347bbad53cb4",
   "metadata": {},
   "outputs": [],
   "source": [
    "entries = [\n",
    "    BoxPlotsEntry(\n",
    "        system=System.BEEFLOW,\n",
    "        export_date=\"2023-01-17_13-40\",\n",
    "        tasks_count=16,\n",
    "        task_duration=10,\n",
    "        dag_ids=[\"10s_16t\"],\n",
    "    ),\n",
    "    BoxPlotsEntry(\n",
    "        system=System.BEEFLOW,\n",
    "        export_date=\"2023-01-18_12-18\",\n",
    "        tasks_count=16,\n",
    "        task_duration=10,\n",
    "        dag_ids=[\"10s_16t_30cron\"],\n",
    "        additional_metadata=\"coldstarts\",\n",
    "    ),\n",
    "    BoxPlotsEntry(\n",
    "        system=System.MWAA,\n",
    "        export_date=\"2023-01-17_13-52\",\n",
    "        tasks_count=16,\n",
    "        task_duration=10,\n",
    "        dag_ids=[\"10s_16t\"],\n",
    "    ),\n",
    "    BoxPlotsEntry(\n",
    "        system=System.BEEFLOW,\n",
    "        export_date=\"2023-01-17_15-10\",\n",
    "        tasks_count=32,\n",
    "        task_duration=10,\n",
    "        dag_ids=[\"10s_32t\"],\n",
    "    ),\n",
    "    BoxPlotsEntry(\n",
    "        system=System.BEEFLOW,\n",
    "        export_date=\"2023-01-18_14-19\",\n",
    "        tasks_count=32,\n",
    "        task_duration=10,\n",
    "        dag_ids=[\"10s_32t_30cron\"],\n",
    "        additional_metadata=\"coldstarts\",\n",
    "    ),\n",
    "    BoxPlotsEntry(\n",
    "        system=System.MWAA,\n",
    "        export_date=\"2023-01-17_15-21\",\n",
    "        tasks_count=32,\n",
    "        task_duration=10,\n",
    "        dag_ids=[\"10s_32t\"],\n",
    "    ),\n",
    "    BoxPlotsEntry(\n",
    "        system=System.BEEFLOW,\n",
    "        export_date=\"2023-01-17_16-39\",\n",
    "        tasks_count=64,\n",
    "        task_duration=10,\n",
    "        dag_ids=[\"10s_64t\"],\n",
    "    ),\n",
    "    BoxPlotsEntry(\n",
    "        system=System.BEEFLOW,\n",
    "        export_date=\"2023-01-18_16-20\",\n",
    "        tasks_count=64,\n",
    "        task_duration=10,\n",
    "        dag_ids=[\"10s_64t_30cron\"],\n",
    "        additional_metadata=\"coldstarts\",\n",
    "    ),\n",
    "    BoxPlotsEntry(\n",
    "        system=System.MWAA,\n",
    "        export_date=\"2023-01-17_16-50\",\n",
    "        tasks_count=64,\n",
    "        task_duration=10,\n",
    "        dag_ids=[\"10s_64t\"],\n",
    "    ),\n",
    "    BoxPlotsEntry(\n",
    "        system=System.BEEFLOW,\n",
    "        export_date=\"2023-01-17_18-08\",\n",
    "        tasks_count=125,\n",
    "        task_duration=10,\n",
    "        dag_ids=[\"10s_125t\"],\n",
    "    ),\n",
    "    BoxPlotsEntry(\n",
    "        system=System.BEEFLOW,\n",
    "        export_date=\"2023-01-18_18-21\",\n",
    "        tasks_count=125,\n",
    "        task_duration=10,\n",
    "        dag_ids=[\"10s_125t_30cron\"],\n",
    "        additional_metadata=\"coldstarts\",\n",
    "    ),\n",
    "    BoxPlotsEntry(\n",
    "        system=System.MWAA,\n",
    "        export_date=\"2023-01-17_18-19\",\n",
    "        tasks_count=125,\n",
    "        task_duration=10,\n",
    "        dag_ids=[\"10s_125t\"],\n",
    "    ),\n",
    "\n",
    "]"
   ]
  },
  {
   "cell_type": "code",
   "execution_count": null,
   "id": "c3388b88-c8fa-481b-8470-1461b942bc5b",
   "metadata": {},
   "outputs": [],
   "source": [
    "trends_for(entries, not_task_ids=[],\n",
    "          not_dag_run_ids=[\n",
    "              \"scheduled__2023-01-07T21:45:00+00:00\", \n",
    "              \"scheduled__2023-01-07T21:35:00+00:00\", \n",
    "              \"scheduled__2023-01-08T20:30:00+00:00\",\n",
    "              \"scheduled__2023-01-08T18:30:00+00:00\",\n",
    "              \"scheduled__2023-01-08T16:30:00+00:00\",\n",
    "              \"scheduled__2023-01-08T14:30:00+00:00\",\n",
    "          ])"
   ]
  },
  {
   "cell_type": "markdown",
   "id": "4c542aac-309e-4aa3-bab9-e6b27e2c36b8",
   "metadata": {},
   "source": [
    "## Beeflow's autoscaling is faster (parallel)"
   ]
  },
  {
   "attachments": {
    "a2eb3b63-2e41-4c4f-a251-a538575d0816.png": {
     "image/png": "[encoded data removed]"
    }
   },
   "cell_type": "markdown",
   "id": "d98df771-fc19-4f1b-845f-f2ddbc922f95",
   "metadata": {},
   "source": [
    "MWAA used in this experiment is the same setup, but instead of keeping 20 workers\n",
    "up and running at all times, the config is to use 1 workers at min, and 20 worker at maximum.\n",
    "Thus, enabling the autoscaling.\n",
    "\n",
    "The problem with MWAA's autoscaling is that it takes a lot of time! (2-5mins for a single \n",
    "machine to come up and running).\n",
    "\n",
    "[This is an interesting note about mwaa](https://docs.aws.amazon.com/mwaa/latest/userguide/mwaa-autoscaling.html) btw (offtop kind of):\n",
    "![image.png](attachment:a2eb3b63-2e41-4c4f-a251-a538575d0816.png)\n",
    "\n",
    "^ when there is an issue, then dont enable autoscaling and pay for the workers... :D"
   ]
  },
  {
   "cell_type": "markdown",
   "id": "f341cf5e-1bce-487b-98ea-e0ca679325ef",
   "metadata": {
    "tags": []
   },
   "source": [
    "### 16 tasks"
   ]
  },
  {
   "cell_type": "code",
   "execution_count": null,
   "id": "387be06e-6885-4f7f-b139-42c0d9bf645d",
   "metadata": {},
   "outputs": [],
   "source": [
    "entries = [\n",
    "    BoxPlotsEntry(\n",
    "        system=System.BEEFLOW,\n",
    "        export_date=\"2023-01-18_12-18\",\n",
    "        tasks_count=16,\n",
    "        task_duration=10,\n",
    "        dag_ids=[\"10s_16t_30cron\"],\n",
    "        additional_metadata=\"coldstart\",\n",
    "    ),\n",
    "    BoxPlotsEntry(\n",
    "        system=System.MWAA,\n",
    "        export_date=\"2023-01-18_12-29\",\n",
    "        tasks_count=16,\n",
    "        task_duration=10,\n",
    "        dag_ids=[\"10s_16t_30cron\"],\n",
    "        additional_metadata=\"1workermin_20workersmax_10task{for worker}\",\n",
    "    ),\n",
    "]"
   ]
  },
  {
   "cell_type": "code",
   "execution_count": null,
   "id": "8ed4058b-b7ec-412d-b3c1-a930782e8f9c",
   "metadata": {},
   "outputs": [],
   "source": [
    "box_plots_for(entries=entries, \n",
    "              not_task_ids=[\"run_before_loop\"],\n",
    "              height=700, \n",
    "              width=1500)"
   ]
  },
  {
   "cell_type": "markdown",
   "id": "e6759445-2ec8-433c-87c2-e27cbd61c1d0",
   "metadata": {
    "tags": []
   },
   "source": [
    "### 32 tasks"
   ]
  },
  {
   "cell_type": "code",
   "execution_count": null,
   "id": "92b80687-b0e0-4eb1-b48e-4c9315e393dd",
   "metadata": {},
   "outputs": [],
   "source": [
    "entries = [\n",
    "    BoxPlotsEntry(\n",
    "        system=System.BEEFLOW,\n",
    "        export_date=\"2023-01-18_14-19\",\n",
    "        tasks_count=32,\n",
    "        task_duration=10,\n",
    "        dag_ids=[\"10s_32t_30cron\"],\n",
    "        additional_metadata=\"coldstarts\",\n",
    "    ),\n",
    "    BoxPlotsEntry(\n",
    "        system=System.MWAA,\n",
    "        export_date=\"2023-01-18_14-30\",\n",
    "        tasks_count=32,\n",
    "        task_duration=10,\n",
    "        dag_ids=[\"10s_32t_30cron\"],\n",
    "        additional_metadata=\"1workermin_20workersmax_10task{for worker}\",\n",
    "    ),\n",
    "]"
   ]
  },
  {
   "cell_type": "code",
   "execution_count": null,
   "id": "9a475677-9a72-451a-9e72-24a30b269e4c",
   "metadata": {},
   "outputs": [],
   "source": [
    "box_plots_for(entries=entries, \n",
    "              not_task_ids=[\"run_before_loop\"],\n",
    "              not_dag_run_ids=[\"scheduled__2023-01-08T18:00:00+00:00\"],\n",
    "              height=700, \n",
    "              width=1500)"
   ]
  },
  {
   "cell_type": "markdown",
   "id": "6ef0d6bc-9678-4802-b4f3-ca3cd259c123",
   "metadata": {
    "tags": []
   },
   "source": [
    "### 64 tasks"
   ]
  },
  {
   "cell_type": "code",
   "execution_count": null,
   "id": "4f7bcb11-75b7-451b-8a1a-3324f022f4c7",
   "metadata": {},
   "outputs": [],
   "source": [
    "entries = [\n",
    "    BoxPlotsEntry(\n",
    "        system=System.BEEFLOW,\n",
    "        export_date=\"2023-01-18_16-20\",\n",
    "        tasks_count=64,\n",
    "        task_duration=10,\n",
    "        dag_ids=[\"10s_64t_30cron\"],\n",
    "        additional_metadata=\"coldstarts\",\n",
    "    ),\n",
    "    BoxPlotsEntry(\n",
    "        system=System.MWAA,\n",
    "        export_date=\"2023-01-18_16-31\",\n",
    "        tasks_count=64,\n",
    "        task_duration=10,\n",
    "        dag_ids=[\"10s_64t_30cron\"],\n",
    "        additional_metadata=\"1workermin_20workersmax_10task{for worker}\",\n",
    "    ),\n",
    "]"
   ]
  },
  {
   "cell_type": "code",
   "execution_count": null,
   "id": "affb3f23-a41d-488e-8882-3d524802ea74",
   "metadata": {},
   "outputs": [],
   "source": [
    "box_plots_for(entries=entries, \n",
    "              not_task_ids=[\"run_before_loop\"],\n",
    "              not_dag_run_ids=[\"scheduled__2023-01-08T18:30:00+00:00\"],\n",
    "              height=700, \n",
    "              width=1500)"
   ]
  },
  {
   "cell_type": "markdown",
   "id": "a8effec2-fca6-42dd-a6da-a436bf826914",
   "metadata": {
    "tags": []
   },
   "source": [
    "### 125"
   ]
  },
  {
   "cell_type": "code",
   "execution_count": null,
   "id": "b787179f-4c5c-4e84-8569-d96ae0a52629",
   "metadata": {},
   "outputs": [],
   "source": [
    "entries = [\n",
    "    BoxPlotsEntry(\n",
    "        system=System.BEEFLOW,\n",
    "        export_date=\"2023-01-18_18-21\",\n",
    "        tasks_count=125,\n",
    "        task_duration=10,\n",
    "        dag_ids=[\"10s_125t_30cron\"],\n",
    "        additional_metadata=\"db.small.coldstarts\",\n",
    "    ),\n",
    "    BoxPlotsEntry(\n",
    "        system=System.MWAA,\n",
    "        export_date=\"2023-01-18_18-32\",\n",
    "        tasks_count=125,\n",
    "        task_duration=10,\n",
    "        dag_ids=[\"10s_125t_30cron\"],\n",
    "        additional_metadata=\"20workers{min==max}_10task{for worker}\",\n",
    "    ),\n",
    "]"
   ]
  },
  {
   "cell_type": "code",
   "execution_count": null,
   "id": "33c26462-4410-48da-bd26-b03ecd05fcc0",
   "metadata": {},
   "outputs": [],
   "source": [
    "print_tables(entries)"
   ]
  },
  {
   "cell_type": "code",
   "execution_count": null,
   "id": "9717c3d6-5755-45b6-8e78-2e1e39c843b8",
   "metadata": {},
   "outputs": [],
   "source": [
    "box_plots_for(entries=entries, \n",
    "              not_task_ids=[\"run_before_loop\"],\n",
    "              not_dag_run_ids=[\"scheduled__2023-01-18T17:00:00+00:00\", \"scheduled__2023-01-18T16:30:00+00:00\", \"scheduled__2023-01-18T17:30:00+00:00\"],\n",
    "              height=700, \n",
    "              width=1500)"
   ]
  },
  {
   "cell_type": "markdown",
   "id": "080040ac-4c65-4059-abbe-2f57d8bbaf8b",
   "metadata": {},
   "source": [
    "At the last graph here it can be seen where the new workers were added to MWAA\n",
    "at the end where more tasks were executed in parallel"
   ]
  },
  {
   "cell_type": "markdown",
   "id": "aebe84cf-e9e0-47cb-8898-82085f703743",
   "metadata": {},
   "source": [
    "### Trends"
   ]
  },
  {
   "cell_type": "code",
   "execution_count": null,
   "id": "cd82a24a-982d-408d-b8e3-53d8074f3c90",
   "metadata": {},
   "outputs": [],
   "source": [
    "entries = [\n",
    "    BoxPlotsEntry(\n",
    "        system=System.BEEFLOW,\n",
    "        export_date=\"2023-01-18_12-18\",\n",
    "        tasks_count=16,\n",
    "        task_duration=10,\n",
    "        dag_ids=[\"10s_16t_30cron\"],\n",
    "        additional_metadata=\"coldstarts\",\n",
    "    ),\n",
    "    BoxPlotsEntry(\n",
    "        system=System.MWAA,\n",
    "        export_date=\"2023-01-18_12-29\",\n",
    "        tasks_count=16,\n",
    "        task_duration=10,\n",
    "        dag_ids=[\"10s_16t_30cron\"],\n",
    "    ),\n",
    "    BoxPlotsEntry(\n",
    "        system=System.BEEFLOW,\n",
    "        export_date=\"2023-01-18_14-19\",\n",
    "        tasks_count=32,\n",
    "        task_duration=10,\n",
    "        dag_ids=[\"10s_32t_30cron\"],\n",
    "        additional_metadata=\"coldstarts\",\n",
    "    ),\n",
    "    BoxPlotsEntry(\n",
    "        system=System.MWAA,\n",
    "        export_date=\"2023-01-18_14-30\",\n",
    "        tasks_count=32,\n",
    "        task_duration=10,\n",
    "        dag_ids=[\"10s_32t_30cron\"],\n",
    "    ),\n",
    "    BoxPlotsEntry(\n",
    "        system=System.BEEFLOW,\n",
    "        export_date=\"2023-01-18_16-20\",\n",
    "        tasks_count=64,\n",
    "        task_duration=10,\n",
    "        dag_ids=[\"10s_64t_30cron\"],\n",
    "        additional_metadata=\"coldstarts\",\n",
    "    ),\n",
    "    BoxPlotsEntry(\n",
    "        system=System.MWAA,\n",
    "        export_date=\"2023-01-18_16-31\",\n",
    "        tasks_count=64,\n",
    "        task_duration=10,\n",
    "        dag_ids=[\"10s_64t_30cron\"],\n",
    "    ),\n",
    "    BoxPlotsEntry(\n",
    "        system=System.BEEFLOW,\n",
    "        export_date=\"2023-01-18_18-21\",\n",
    "        tasks_count=125,\n",
    "        task_duration=10,\n",
    "        dag_ids=[\"10s_125t_30cron\"],\n",
    "        additional_metadata=\"coldstarts\",\n",
    "    ),\n",
    "    BoxPlotsEntry(\n",
    "        system=System.MWAA,\n",
    "        export_date=\"2023-01-18_18-32\",\n",
    "        tasks_count=125,\n",
    "        task_duration=10,\n",
    "        dag_ids=[\"10s_125t_30cron\"],\n",
    "    ),\n",
    "\n",
    "]"
   ]
  },
  {
   "cell_type": "code",
   "execution_count": null,
   "id": "0acff896-c2f8-4197-96b9-c8f1c8c81a2e",
   "metadata": {},
   "outputs": [],
   "source": [
    "trends_for(entries, not_task_ids=[], not_dag_run_ids=[\"scheduled__2023-01-18T17:00:00+00:00\", \"scheduled__2023-01-18T16:30:00+00:00\", \"scheduled__2023-01-18T17:30:00+00:00\"],)"
   ]
  },
  {
   "cell_type": "markdown",
   "id": "e77bb804-98ea-47fa-9250-9e3e44232a4e",
   "metadata": {},
   "source": []
  },
  {
   "cell_type": "code",
   "execution_count": null,
   "id": "feb4957a-5d9c-4b4e-8e75-98b23c4b8259",
   "metadata": {},
   "outputs": [],
   "source": []
  },
  {
   "cell_type": "code",
   "execution_count": null,
   "id": "30b8d78f-2bc3-4edc-a6bc-b7d9936be274",
   "metadata": {},
   "outputs": [],
   "source": []
  },
  {
   "cell_type": "code",
   "execution_count": null,
   "id": "fd0f00e8-1993-43ae-81cb-2a436b4e7f0d",
   "metadata": {},
   "outputs": [],
   "source": []
  },
  {
   "cell_type": "code",
   "execution_count": null,
   "id": "d7019027-a2a7-48c4-8743-8ac21b6225db",
   "metadata": {},
   "outputs": [],
   "source": [
    "Tests"
   ]
  },
  {
   "cell_type": "code",
   "execution_count": null,
   "id": "200675f5-6714-4a57-86d6-1f50f0d435fd",
   "metadata": {},
   "outputs": [],
   "source": [
    "entries = [\n",
    "    BoxPlotsEntry(\n",
    "        system=System.BEEFLOW,\n",
    "        export_date=\"2023-01-19_15-42\",\n",
    "        tasks_count=125,\n",
    "        task_duration=30,\n",
    "        dag_ids=[\"30s_125t\"],\n",
    "        additional_metadata=\"db.small\",\n",
    "    ),\n",
    "    BoxPlotsEntry(\n",
    "        system=System.BEEFLOW,\n",
    "        export_date=\"2023-01-21_16-27\",\n",
    "        tasks_count=125,\n",
    "        task_duration=30,\n",
    "        dag_ids=[\"30s_125t\"],\n",
    "        additional_metadata=\"db.m5.large\",\n",
    "    ),\n",
    "    BoxPlotsEntry(\n",
    "        system=System.BEEFLOW,\n",
    "        export_date=\"2023-01-21_17-42\",\n",
    "        tasks_count=125,\n",
    "        task_duration=30,\n",
    "        dag_ids=[\"30s_125t\"],\n",
    "        additional_metadata=\"db.m4.xlarge\",\n",
    "    ),\n",
    "]\n"
   ]
  },
  {
   "cell_type": "code",
   "execution_count": null,
   "id": "220d770e-6f0d-4635-8fbf-38802988d3f8",
   "metadata": {},
   "outputs": [],
   "source": [
    "box_plots_for(entries=entries, \n",
    "              not_task_ids=[\"run_before_loop\"],\n",
    "              height=700, \n",
    "              width=1500)"
   ]
  },
  {
   "cell_type": "code",
   "execution_count": null,
   "id": "4931d739-9808-4ef0-82a3-0192ad19e194",
   "metadata": {},
   "outputs": [],
   "source": []
  }
 ],
 "metadata": {
  "kernelspec": {
   "display_name": "Python 3 (ipykernel)",
   "language": "python",
   "name": "python3"
  },
  "language_info": {
   "codemirror_mode": {
    "name": "ipython",
    "version": 3
   },
   "file_extension": ".py",
   "mimetype": "text/x-python",
   "name": "python",
   "nbconvert_exporter": "python",
   "pygments_lexer": "ipython3",
   "version": "3.9.10"
  }
 },
 "nbformat": 4,
 "nbformat_minor": 5
}
