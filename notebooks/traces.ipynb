{
 "cells": [
  {
   "cell_type": "code",
   "execution_count": null,
   "metadata": {},
   "outputs": [],
   "source": [
    "import pandas as pd\n",
    "import re"
   ]
  },
  {
   "cell_type": "code",
   "execution_count": null,
   "metadata": {},
   "outputs": [],
   "source": [
    "!mkdir -p data && cd data && wget -c --retry-connrefused --tries=0 --timeout=50 http://aliopentrace.oss-cn-beijing.aliyuncs.com/v2018Traces/batch_task.tar.gz"
   ]
  },
  {
   "cell_type": "code",
   "execution_count": null,
   "metadata": {},
   "outputs": [],
   "source": [
    "!cd data && tar -xvzf batch_task.tar.gz"
   ]
  },
  {
   "cell_type": "code",
   "execution_count": null,
   "metadata": {},
   "outputs": [],
   "source": [
    "# From https://github.com/alibaba/clusterdata/blob/master/cluster-trace-v2018/fetchData.sh\n",
    "df = pd.read_csv('data/batch_task.csv', names=['task_name', 'instance_num', 'job_name', 'task_type', 'status', 'start_time', 'end_time', 'plan_cpu', 'plan_mem'])\n",
    "df['duration'] = df['end_time'] - df['start_time']"
   ]
  },
  {
   "cell_type": "code",
   "execution_count": null,
   "metadata": {},
   "outputs": [],
   "source": [
    "# Task name is:\n",
    "# a) containing dependencies (like 'J4_2_3' -> task 4 depends on 2 and 3)\n",
    "TASK_NAME_RE = re.compile('^[^_]*[A-Z](?P<task_id>\\d+)(_(?P<deps>[\\d+_]+))?(_Stg\\d+)?$') # Note: sometimes job ends with _Stg*\n",
    "# b) independent task (like 'task_LTE4NjUxMjg5NDY5MDI4NjAzNzU=')\n",
    "SINGLE_TASK_RE = re.compile('^task_[a-zA-Z0-9]+=*$')\n",
    "# c) 'MergeTask'\n",
    "\n",
    "# check that we cover all cases:\n",
    "assert df.task_name.apply(lambda f: TASK_NAME_RE.match(f) is not None or SINGLE_TASK_RE.match(f) is not None or f == 'MergeTask').all()"
   ]
  },
  {
   "cell_type": "code",
   "execution_count": null,
   "metadata": {},
   "outputs": [],
   "source": [
    "# Check that 'MergeTask's are in fact independent tasks (i.e. the only task in a job)\n",
    "def get_merge_task_stats(df):\n",
    "    df = df[['job_name', 'task_name']].copy()\n",
    "    df['is_merge_task'] = df['task_name'] == 'MergeTask'\n",
    "    return df.groupby('job_name').agg(\n",
    "        count=pd.NamedAgg('task_name', 'count'),\n",
    "        mergeCount=pd.NamedAgg('is_merge_task', 'sum')\n",
    "    )\n",
    "\n",
    "assert len(get_merge_task_stats(df).query('mergeCount > 0 and count > 1')) == 0"
   ]
  },
  {
   "cell_type": "code",
   "execution_count": null,
   "metadata": {},
   "outputs": [],
   "source": [
    "# Extract dependency info\n",
    "def get_task_index_and_deps(row):\n",
    "    task_name = row.task_name\n",
    "    if m := TASK_NAME_RE.match(task_name):\n",
    "        if m.group('deps'):\n",
    "            deps = [int(item) for item in m.group('deps').split('_') if item != '']\n",
    "        else:\n",
    "            deps = []\n",
    "        return int(m.group('task_id')), deps\n",
    "    else:\n",
    "        return 1, []\n",
    "\n",
    "df[['task_index', 'task_deps']] = df[['task_name']].apply(get_task_index_and_deps, result_type='expand', axis=1)"
   ]
  },
  {
   "cell_type": "code",
   "execution_count": null,
   "metadata": {},
   "outputs": [],
   "source": [
    "df[['job_name', 'task_index', 'task_deps', 'duration', 'instance_num']].head()"
   ]
  },
  {
   "cell_type": "code",
   "execution_count": null,
   "metadata": {},
   "outputs": [],
   "source": [
    "# Sample job\n",
    "df[['job_name', 'task_index', 'task_deps', 'duration', 'instance_num']].query('job_name == \"j_3\"')"
   ]
  },
  {
   "cell_type": "code",
   "execution_count": null,
   "metadata": {},
   "outputs": [],
   "source": [
    "# Filter jobs with 4 or more tasks\n",
    "jobs = df.groupby(\"job_name\").filter(lambda x: len(x) > 3)"
   ]
  },
  {
   "cell_type": "code",
   "execution_count": null,
   "metadata": {},
   "outputs": [],
   "source": []
  },
  {
   "cell_type": "code",
   "execution_count": null,
   "metadata": {},
   "outputs": [],
   "source": []
  }
 ],
 "metadata": {
  "kernelspec": {
   "display_name": "Python 3 (ipykernel)",
   "language": "python",
   "name": "python3"
  },
  "language_info": {
   "codemirror_mode": {
    "name": "ipython",
    "version": 3
   },
   "file_extension": ".py",
   "mimetype": "text/x-python",
   "name": "python",
   "nbconvert_exporter": "python",
   "pygments_lexer": "ipython3",
   "version": "3.9.10"
  }
 },
 "nbformat": 4,
 "nbformat_minor": 4
}