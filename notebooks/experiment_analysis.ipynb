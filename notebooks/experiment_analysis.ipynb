{
 "cells": [
  {
   "cell_type": "markdown",
   "metadata": {
    "tags": []
   },
   "source": [
    "# Helper functions"
   ]
  },
  {
   "cell_type": "code",
   "execution_count": null,
   "metadata": {
    "tags": []
   },
   "outputs": [],
   "source": [
    "BUCKET_NAME=\"beeflow-dev-metadata-dumps\""
   ]
  },
  {
   "cell_type": "code",
   "execution_count": null,
   "metadata": {},
   "outputs": [],
   "source": [
    "import pandas as pd\n",
    "import boto3"
   ]
  },
  {
   "cell_type": "code",
   "execution_count": null,
   "metadata": {},
   "outputs": [],
   "source": [
    "s3 = boto3.client('s3') "
   ]
  },
  {
   "cell_type": "code",
   "execution_count": null,
   "metadata": {},
   "outputs": [],
   "source": [
    "def get_s3_csv(file: str):\n",
    "    obj = s3.get_object(Bucket=BUCKET_NAME, Key=file)\n",
    "    return pd.read_csv(obj['Body'])\n"
   ]
  },
  {
   "cell_type": "code",
   "execution_count": null,
   "metadata": {},
   "outputs": [],
   "source": [
    "from enum import Enum\n",
    "\n",
    "class System(Enum):\n",
    "    MWAA = \"mwaa\"\n",
    "    BEEFLOW = \"serverless\"\n",
    "    \n",
    "class Stats(Enum):\n",
    "    DAG_RUNS = \"dagrun\"\n",
    "    TASKS = \"taskinstance\""
   ]
  },
  {
   "cell_type": "code",
   "execution_count": null,
   "metadata": {},
   "outputs": [],
   "source": [
    "def get_stats(system: System, date: str, stats: Stats):\n",
    "    return get_s3_csv(f\"{system.value}/export/{stats.value}/dt={date}/{stats.value}.csv\")"
   ]
  },
  {
   "cell_type": "code",
   "execution_count": null,
   "metadata": {},
   "outputs": [],
   "source": [
    "def filter_on_dag_ids(df, dag_ids):\n",
    "    return df[df['dag_id'].isin(dag_ids)]"
   ]
  },
  {
   "cell_type": "code",
   "execution_count": null,
   "metadata": {},
   "outputs": [],
   "source": [
    "def filter_on_not_task_ids(df, task_ids):\n",
    "    return df[~df['task_id'].isin(task_ids)]"
   ]
  },
  {
   "cell_type": "code",
   "execution_count": null,
   "metadata": {},
   "outputs": [],
   "source": [
    "mwaa_shard_10_tasks = filter_on_dag_ids(get_stats(system=System.MWAA, date=\"2022-12-07_21-57\", stats=Stats.TASKS), dag_ids=[\"beeflow_experiment2\"])"
   ]
  },
  {
   "cell_type": "code",
   "execution_count": null,
   "metadata": {},
   "outputs": [],
   "source": [
    "beeflow_shard_10_tasks = filter_on_dag_ids(get_stats(system=System.BEEFLOW, date=\"2022-12-07_21-50\", stats=Stats.TASKS), dag_ids=[\"beeflow_experiment2\"])"
   ]
  },
  {
   "cell_type": "code",
   "execution_count": null,
   "metadata": {},
   "outputs": [],
   "source": [
    "import plotly.express as px"
   ]
  },
  {
   "cell_type": "code",
   "execution_count": null,
   "metadata": {},
   "outputs": [],
   "source": [
    "def gantt_task(df, range_x=None):\n",
    "    fig = px.timeline(df, x_start=\"start_date\", x_end=\"end_date\", color=\"run_id\", y=\"task_id\", range_x=range_x)\n",
    "    fig.update_yaxes(autorange=\"reversed\")\n",
    "    fig.show()"
   ]
  },
  {
   "cell_type": "code",
   "execution_count": null,
   "metadata": {},
   "outputs": [],
   "source": [
    "shard_10_tasks_x_range = (\"2022-12-07 20:40:00.000000+00:00\", \"2022-12-07 21:55:00.000000+00:00\")"
   ]
  },
  {
   "cell_type": "code",
   "execution_count": null,
   "metadata": {},
   "outputs": [],
   "source": [
    "gantt_task(mwaa_shard_10_tasks, range_x=shard_10_tasks_x_range)"
   ]
  },
  {
   "cell_type": "code",
   "execution_count": null,
   "metadata": {},
   "outputs": [],
   "source": [
    "gantt_task(beeflow_shard_10_tasks, range_x=shard_10_tasks_x_range)"
   ]
  },
  {
   "cell_type": "code",
   "execution_count": null,
   "metadata": {},
   "outputs": [],
   "source": [
    "mwaa_shard_10_dag_runs = filter_on_dag_ids(get_stats(system=System.MWAA, date=\"2022-12-07_21-57\", stats=Stats.DAG_RUNS), dag_ids=[\"beeflow_experiment2\"])"
   ]
  },
  {
   "cell_type": "code",
   "execution_count": null,
   "metadata": {},
   "outputs": [],
   "source": [
    "beeflow_shard_10_dag_runs = filter_on_dag_ids(get_stats(system=System.BEEFLOW, date=\"2022-12-07_21-50\", stats=Stats.DAG_RUNS), dag_ids=[\"beeflow_experiment2\"])"
   ]
  },
  {
   "cell_type": "code",
   "execution_count": null,
   "metadata": {},
   "outputs": [],
   "source": [
    "def gantt_dag_runs(df, **kwargs):\n",
    "    fig = px.timeline(df, x_start=\"start_date\", x_end=\"end_date\", color=\"run_id\", **kwargs)\n",
    "    fig.update_yaxes(autorange=\"reversed\")\n",
    "    fig.show()"
   ]
  },
  {
   "cell_type": "code",
   "execution_count": null,
   "metadata": {},
   "outputs": [],
   "source": [
    "gantt_dag_runs(mwaa_shard_10_dag_runs, range_x=shard_10_tasks_x_range)"
   ]
  },
  {
   "cell_type": "code",
   "execution_count": null,
   "metadata": {},
   "outputs": [],
   "source": [
    "gantt_dag_runs(beeflow_shard_10_dag_runs, range_x=shard_10_tasks_x_range)"
   ]
  },
  {
   "cell_type": "code",
   "execution_count": null,
   "metadata": {},
   "outputs": [],
   "source": [
    "def average_dag_run_duration(df):\n",
    "    start_ms_time = pd.to_datetime(df['start_date'])\n",
    "    end_ms_time = pd.to_datetime(df['end_date'])\n",
    "    df['duration'] = end_ms_time.sub(start_ms_time).dt.total_seconds()\n",
    "    return df['duration'].mean()"
   ]
  },
  {
   "cell_type": "code",
   "execution_count": null,
   "metadata": {},
   "outputs": [],
   "source": [
    "average_dag_run_duration(mwaa_shard_10_dag_runs)"
   ]
  },
  {
   "cell_type": "code",
   "execution_count": null,
   "metadata": {},
   "outputs": [],
   "source": [
    "average_dag_run_duration(beeflow_shard_10_dag_runs)"
   ]
  },
  {
   "cell_type": "code",
   "execution_count": null,
   "metadata": {},
   "outputs": [],
   "source": [
    "fig = px.histogram(beeflow_shard_10_dag_runs, x=\"duration\", nbins=20)\n",
    "fig.show()"
   ]
  },
  {
   "cell_type": "code",
   "execution_count": null,
   "metadata": {},
   "outputs": [],
   "source": [
    "def enhance_with_duration(df):\n",
    "    start_ms_time = pd.to_datetime(df['start_date'])\n",
    "    end_ms_time = pd.to_datetime(df['end_date'])\n",
    "    df['duration'] = end_ms_time.sub(start_ms_time).dt.total_seconds()"
   ]
  },
  {
   "cell_type": "code",
   "execution_count": null,
   "metadata": {},
   "outputs": [],
   "source": [
    "def enhance_with_wait_time_dag_runs(df):\n",
    "    queued_ms_time = pd.to_datetime(df['queued_at'])\n",
    "    end_ms_time = pd.to_datetime(df['start_date'])\n",
    "    df['wait_time'] = end_ms_time.sub(queued_ms_time).dt.total_seconds()"
   ]
  },
  {
   "cell_type": "code",
   "execution_count": null,
   "metadata": {},
   "outputs": [],
   "source": [
    "def enhance_with_wait_time_tasks(df):\n",
    "    queued_ms_time = pd.to_datetime(df['queued_dttm'])\n",
    "    end_ms_time = pd.to_datetime(df['start_date'])\n",
    "    df['wait_time'] = end_ms_time.sub(queued_ms_time).dt.total_seconds()"
   ]
  },
  {
   "cell_type": "code",
   "execution_count": null,
   "metadata": {},
   "outputs": [],
   "source": [
    "def duration_histogram(df, nbins=20):\n",
    "    fig = px.histogram(df, x=\"duration\", nbins=nbins)\n",
    "    fig.show()"
   ]
  },
  {
   "cell_type": "code",
   "execution_count": null,
   "metadata": {},
   "outputs": [],
   "source": [
    "def box_plot_duration(beeflow, mwaa):\n",
    "    beeflow_df = beeflow.loc[:, ['duration']]\n",
    "    beeflow_df[\"dataset\"] = 'beeflow'\n",
    "    mwaa_df = mwaa.loc[:, ['duration']]\n",
    "    mwaa_df[\"dataset\"] = \"mwaa\"\n",
    "    fig = px.box(pd.concat([beeflow_df, mwaa_df]), x=\"dataset\", y=\"duration\", points=\"all\")\n",
    "    fig.show()"
   ]
  },
  {
   "cell_type": "code",
   "execution_count": null,
   "metadata": {},
   "outputs": [],
   "source": [
    "def cross_histogram_plot(beeflow, mwaa, nbins=30, measurment_column_name=\"duration\", **kwargs):\n",
    "    beeflow_df = beeflow.loc[:, [measurment_column_name]]\n",
    "    beeflow_df[\"dataset\"] = 'beeflow'\n",
    "    mwaa_df = mwaa.loc[:, [measurment_column_name]]\n",
    "    mwaa_df[\"dataset\"] = \"mwaa\"\n",
    "    fig = px.histogram(pd.concat([beeflow_df, mwaa_df]), \n",
    "                       y=measurment_column_name, \n",
    "                       color=\"dataset\", \n",
    "                       marginal=\"box\", \n",
    "                       barmode=\"group\", \n",
    "                       nbins=nbins,\n",
    "                       **kwargs,\n",
    "                      )\n",
    "    fig.show()"
   ]
  },
  {
   "cell_type": "code",
   "execution_count": null,
   "metadata": {},
   "outputs": [],
   "source": [
    "def compare_runs_by_histograms(dag_ids, \n",
    "                               mwaa_export_date, \n",
    "                               beeflow_export_date, \n",
    "                               tasks_num, \n",
    "                               task_duration, \n",
    "                               nbins=30,\n",
    "                               not_task_ids=[\"run_before_loop\"]):\n",
    "    # Draw duration for DAG runs\n",
    "    mwaa = filter_on_dag_ids(\n",
    "        df=get_stats(system=System.MWAA, date=mwaa_export_date, stats=Stats.DAG_RUNS), \n",
    "        dag_ids=dag_ids\n",
    "    )\n",
    "    enhance_with_duration(mwaa)\n",
    "    beeflow = filter_on_dag_ids(\n",
    "        df=get_stats(system=System.BEEFLOW, date=beeflow_export_date, stats=Stats.DAG_RUNS), \n",
    "        dag_ids=dag_ids\n",
    "    )\n",
    "    enhance_with_duration(beeflow)\n",
    "    cross_histogram_plot(beeflow=beeflow, \n",
    "                         mwaa=mwaa, \n",
    "                         height=700,\n",
    "                         title=f\"Dag run duration; {task_duration}s task, {tasks_num} tasks\",\n",
    "                         measurment_column_name=\"duration\",\n",
    "                         nbins=nbins)\n",
    "    \n",
    "    # Draw wait time for DAG runs\n",
    "    enhance_with_wait_time_dag_runs(mwaa)\n",
    "    enhance_with_wait_time_dag_runs(beeflow)\n",
    "    cross_histogram_plot(beeflow=beeflow, \n",
    "                         mwaa=mwaa, \n",
    "                         height=700,\n",
    "                         title=f\"Dag run wait time (start - queued); {task_duration}s task, {tasks_num} tasks\",\n",
    "                         measurment_column_name=\"wait_time\",\n",
    "                         nbins=nbins)\n",
    "    \n",
    "    # Draw duration for tasks\n",
    "    mwaa_tasks = filter_on_not_task_ids(\n",
    "        df=filter_on_dag_ids(\n",
    "            df=get_stats(system=System.MWAA, date=mwaa_export_date, stats=Stats.TASKS), \n",
    "            dag_ids=dag_ids\n",
    "        ), \n",
    "        task_ids=not_task_ids,\n",
    "    )\n",
    "    enhance_with_duration(mwaa_tasks)\n",
    "    beeflow_tasks = filter_on_not_task_ids(\n",
    "        df=filter_on_dag_ids(\n",
    "            df=get_stats(system=System.BEEFLOW, date=beeflow_export_date, stats=Stats.TASKS), \n",
    "            dag_ids=dag_ids\n",
    "        ), \n",
    "        task_ids=not_task_ids,\n",
    "    )\n",
    "    enhance_with_duration(beeflow_tasks)\n",
    "    cross_histogram_plot(beeflow=beeflow_tasks, \n",
    "                         mwaa=mwaa_tasks, \n",
    "                         height=700,\n",
    "                         title=f\"Tasks duration; {task_duration}s task, {tasks_num} tasks\",\n",
    "                         measurment_column_name=\"duration\",\n",
    "                         nbins=nbins)\n",
    "    \n",
    "    # Draw wait time for tasks\n",
    "    enhance_with_wait_time_tasks(mwaa_tasks)\n",
    "    enhance_with_wait_time_tasks(beeflow_tasks)\n",
    "    cross_histogram_plot(beeflow=beeflow_tasks, \n",
    "                     mwaa=mwaa_tasks, \n",
    "                     height=700,\n",
    "                     title=f\"Tasks wait time (start - queued); {task_duration}s task, {tasks_num} tasks\",\n",
    "                     measurment_column_name=\"wait_time\",\n",
    "                     nbins=nbins)\n"
   ]
  },
  {
   "cell_type": "code",
   "execution_count": null,
   "metadata": {},
   "outputs": [],
   "source": [
    "from dataclasses import dataclass\n",
    "from typing import List\n",
    "\n",
    "@dataclass\n",
    "class HistogramEntry:\n",
    "    system: System\n",
    "    export_date: str\n",
    "    dag_ids: List[str]\n",
    "    task_duration: int\n",
    "    tasks_count: int"
   ]
  },
  {
   "cell_type": "code",
   "execution_count": null,
   "metadata": {},
   "outputs": [],
   "source": [
    "@dataclass\n",
    "class HistogramPlotEntry:\n",
    "    system: System\n",
    "    data: pd.DataFrame\n",
    "    task_duration: int\n",
    "    tasks_count: int\n",
    "\n",
    "\n",
    "def cross_histogram_plot_for(entries: List[HistogramPlotEntry], \n",
    "                             nbins=30, \n",
    "                             measurment_column_name=\"duration\", \n",
    "                             **kwargs):\n",
    "    transformed_data = []\n",
    "    for entry in entries:\n",
    "        df = entry.data.loc[:, [measurment_column_name]]\n",
    "        df[\"identifier\"] = f\"{entry.system.value}_tasks:{entry.tasks_count}_duration:{entry.task_duration}\"\n",
    "        transformed_data.append(df)\n",
    "    fig = px.histogram(pd.concat(transformed_data), \n",
    "                       y=measurment_column_name, \n",
    "                       color=\"identifier\", \n",
    "                       marginal=\"box\", \n",
    "                       barmode=\"group\", \n",
    "                       nbins=nbins,\n",
    "                       **kwargs,\n",
    "                      )\n",
    "    fig.show()"
   ]
  },
  {
   "cell_type": "code",
   "execution_count": null,
   "metadata": {},
   "outputs": [],
   "source": [
    "def compare_runs_by_histograms_for(entries: List[HistogramEntry], not_task_ids, nbins=30, **kwargs):\n",
    "    # Draw dags\n",
    "    dags_data = []\n",
    "    for entry in entries:\n",
    "        entry_dag_runs = filter_on_dag_ids(\n",
    "            df=get_stats(system=entry.system, date=entry.export_date, stats=Stats.DAG_RUNS), \n",
    "            dag_ids=entry.dag_ids,\n",
    "        )\n",
    "        enhance_with_duration(entry_dag_runs)\n",
    "        enhance_with_wait_time_dag_runs(entry_dag_runs)\n",
    "        dags_data.append(\n",
    "            HistogramPlotEntry(\n",
    "                system=entry.system,\n",
    "                data=entry_dag_runs,\n",
    "                task_duration=entry.task_duration,\n",
    "                tasks_count=entry.tasks_count,\n",
    "            )\n",
    "        )\n",
    "    cross_histogram_plot_for(dags_data, \n",
    "                             nbins, \n",
    "                             measurment_column_name=\"duration\", \n",
    "                             title=\"DAG runs comparison: duration\",\n",
    "                             **kwargs)\n",
    "    cross_histogram_plot_for(dags_data, \n",
    "                             nbins, \n",
    "                             measurment_column_name=\"wait_time\", \n",
    "                             title=\"DAG run comparision: wait time (start - queued)\",\n",
    "                             **kwargs)\n",
    "    # Tasks data\n",
    "    tasks_data = []\n",
    "    for entry in entries:\n",
    "        entry_tasks = filter_on_not_task_ids(\n",
    "            df=filter_on_dag_ids(\n",
    "                df=get_stats(system=entry.system, date=entry.export_date, stats=Stats.TASKS), \n",
    "                dag_ids=entry.dag_ids,\n",
    "            ),\n",
    "            task_ids=not_task_ids,\n",
    "        )\n",
    "        enhance_with_duration(entry_tasks)\n",
    "        enhance_with_wait_time_tasks(entry_tasks)\n",
    "        tasks_data.append(\n",
    "            HistogramPlotEntry(\n",
    "                system=entry.system,\n",
    "                data=entry_tasks,\n",
    "                task_duration=entry.task_duration,\n",
    "                tasks_count=entry.tasks_count,\n",
    "            )\n",
    "        )\n",
    "    cross_histogram_plot_for(tasks_data, \n",
    "                             nbins, \n",
    "                             measurment_column_name=\"duration\", \n",
    "                             title=\"Tasks runs comparison: duration\",\n",
    "                             **kwargs)\n",
    "    cross_histogram_plot_for(tasks_data, \n",
    "                             nbins, \n",
    "                             measurment_column_name=\"wait_time\", \n",
    "                             title=\"Tasks run comparision: wait time (start - queued)\",\n",
    "                             **kwargs)\n",
    "        "
   ]
  },
  {
   "cell_type": "code",
   "execution_count": null,
   "metadata": {},
   "outputs": [],
   "source": [
    "@dataclass\n",
    "class TasksChartEntry:\n",
    "    system: System\n",
    "    export_date: str\n",
    "    dag_ids: List[str]\n",
    "    task_duration: int\n",
    "    tasks_count: int"
   ]
  },
  {
   "cell_type": "code",
   "execution_count": null,
   "metadata": {},
   "outputs": [],
   "source": [
    "def tasks_plot(entry: TasksChartEntry, not_task_ids=[], **kwargs):\n",
    "    entry_tasks = filter_on_not_task_ids(\n",
    "        df=filter_on_dag_ids(\n",
    "            df=get_stats(system=entry.system, date=entry.export_date, stats=Stats.TASKS), \n",
    "            dag_ids=entry.dag_ids,\n",
    "        ),\n",
    "        task_ids=not_task_ids,\n",
    "    )\n",
    "    gantt_task(entry_tasks)\n",
    "    "
   ]
  },
  {
   "cell_type": "markdown",
   "metadata": {
    "tags": []
   },
   "source": [
    "# Experiments analysis [parallel tasks, 10s per task]"
   ]
  },
  {
   "attachments": {
    "3ebfc2c7-9159-4b5f-bc53-e51e55770805.png": {
     "image/png": "[encoded data removed]"
    }
   },
   "cell_type": "markdown",
   "metadata": {
    "tags": []
   },
   "source": [
    "## MWAA 1min worker, 10 max workers\n",
    "\n",
    "Run 5 experiments:\n",
    "- 1 task\n",
    "- 5 tasks\n",
    "- 10 tasks\n",
    "- 15 tasks\n",
    "- 20 tasks\n",
    "\n",
    "![Untitled Diagram.drawio (1).png](attachment:3ebfc2c7-9159-4b5f-bc53-e51e55770805.png)\n"
   ]
  },
  {
   "cell_type": "markdown",
   "metadata": {
    "tags": []
   },
   "source": [
    "### 1 Task"
   ]
  },
  {
   "cell_type": "code",
   "execution_count": null,
   "metadata": {},
   "outputs": [],
   "source": [
    "compare_runs_by_histograms(\n",
    "    dag_ids=[\"10s_1t\"],\n",
    "    mwaa_export_date=\"2022-12-11_00-08\",\n",
    "    beeflow_export_date=\"2022-12-10_23-57\",\n",
    "    tasks_num=1,\n",
    "    task_duration=10,\n",
    "    nbins=50,\n",
    "    not_task_ids=[],\n",
    ")"
   ]
  },
  {
   "cell_type": "markdown",
   "metadata": {
    "jp-MarkdownHeadingCollapsed": true,
    "tags": []
   },
   "source": [
    "### 5 tasks in parallel with intro task"
   ]
  },
  {
   "cell_type": "code",
   "execution_count": null,
   "metadata": {},
   "outputs": [],
   "source": [
    "compare_runs_by_histograms(\n",
    "    dag_ids=[\"10s_5t\"],\n",
    "    mwaa_export_date=\"2022-12-11_01-37\",\n",
    "    beeflow_export_date=\"2022-12-11_01-26\",\n",
    "    tasks_num=5,\n",
    "    task_duration=10,\n",
    "    nbins=50,\n",
    ")"
   ]
  },
  {
   "cell_type": "markdown",
   "metadata": {
    "jp-MarkdownHeadingCollapsed": true,
    "tags": []
   },
   "source": [
    "### 10 tasks, 10s per task"
   ]
  },
  {
   "cell_type": "code",
   "execution_count": null,
   "metadata": {},
   "outputs": [],
   "source": [
    "compare_runs_by_histograms(\n",
    "    dag_ids=[\"10s_10t\"],\n",
    "    mwaa_export_date=\"2022-12-11_03-06\",\n",
    "    beeflow_export_date=\"2022-12-11_02-55\",\n",
    "    tasks_num=10,\n",
    "    task_duration=10,\n",
    "    nbins=50,\n",
    ")"
   ]
  },
  {
   "cell_type": "markdown",
   "metadata": {
    "tags": []
   },
   "source": [
    "### 15 tasks, 10s per task"
   ]
  },
  {
   "cell_type": "code",
   "execution_count": null,
   "metadata": {},
   "outputs": [],
   "source": [
    "compare_runs_by_histograms(\n",
    "    dag_ids=[\"10s_15t\"],\n",
    "    mwaa_export_date=\"2022-12-11_04-35\",\n",
    "    beeflow_export_date=\"2022-12-11_04-23\",\n",
    "    tasks_num=15,\n",
    "    task_duration=10,\n",
    "    nbins=50,\n",
    ")"
   ]
  },
  {
   "cell_type": "markdown",
   "metadata": {
    "jp-MarkdownHeadingCollapsed": true,
    "tags": []
   },
   "source": [
    "### 20 tasks, 10s per task"
   ]
  },
  {
   "cell_type": "code",
   "execution_count": null,
   "metadata": {},
   "outputs": [],
   "source": [
    "compare_runs_by_histograms(\n",
    "    dag_ids=[\"10s_20t\"],\n",
    "    mwaa_export_date=\"2022-12-11_06-04\",\n",
    "    beeflow_export_date=\"2022-12-11_05-52\",\n",
    "    tasks_num=20,\n",
    "    task_duration=10,\n",
    "    nbins=50,\n",
    ")"
   ]
  },
  {
   "cell_type": "markdown",
   "metadata": {},
   "source": [
    "### Diagrams: 5v10v15v20, same pane"
   ]
  },
  {
   "cell_type": "code",
   "execution_count": null,
   "metadata": {},
   "outputs": [],
   "source": [
    "entries = [\n",
    "    HistogramEntry(\n",
    "        system=System.MWAA,\n",
    "        export_date=\"2022-12-11_01-37\",\n",
    "        tasks_count=5,\n",
    "        task_duration=10,\n",
    "        dag_ids=[\"10s_5t\"]\n",
    "    ),\n",
    "    HistogramEntry(\n",
    "        system=System.BEEFLOW,\n",
    "        export_date=\"2022-12-11_01-26\",\n",
    "        tasks_count=5,\n",
    "        task_duration=10,\n",
    "        dag_ids=[\"10s_5t\"]\n",
    "    ),\n",
    "    HistogramEntry(\n",
    "        system=System.MWAA,\n",
    "        export_date=\"2022-12-11_03-06\",\n",
    "        tasks_count=10,\n",
    "        task_duration=10,\n",
    "        dag_ids=[\"10s_10t\"]\n",
    "    ),\n",
    "    HistogramEntry(\n",
    "        system=System.BEEFLOW,\n",
    "        export_date=\"2022-12-11_02-55\",\n",
    "        tasks_count=10,\n",
    "        task_duration=10,\n",
    "        dag_ids=[\"10s_10t\"]\n",
    "    ),\n",
    "    HistogramEntry(\n",
    "        system=System.MWAA,\n",
    "        export_date=\"2022-12-11_04-35\",\n",
    "        tasks_count=15,\n",
    "        task_duration=10,\n",
    "        dag_ids=[\"10s_15t\"]\n",
    "    ),\n",
    "    HistogramEntry(\n",
    "        system=System.BEEFLOW,\n",
    "        export_date=\"2022-12-11_04-23\",\n",
    "        tasks_count=15,\n",
    "        task_duration=10,\n",
    "        dag_ids=[\"10s_15t\"]\n",
    "    ),\n",
    "    HistogramEntry(\n",
    "        system=System.MWAA,\n",
    "        export_date=\"2022-12-11_06-04\",\n",
    "        tasks_count=20,\n",
    "        task_duration=10,\n",
    "        dag_ids=[\"10s_20t\"]\n",
    "    ),\n",
    "    HistogramEntry(\n",
    "        system=System.BEEFLOW,\n",
    "        export_date=\"2022-12-11_05-52\",\n",
    "        tasks_count=20,\n",
    "        task_duration=10,\n",
    "        dag_ids=[\"10s_20t\"]\n",
    "    ),\n",
    "]"
   ]
  },
  {
   "cell_type": "code",
   "execution_count": null,
   "metadata": {},
   "outputs": [],
   "source": [
    "compare_runs_by_histograms_for(entries=entries, not_task_ids=[\"run_before_loop\"], nbins=50, height=700, width=1500)"
   ]
  },
  {
   "cell_type": "markdown",
   "metadata": {
    "tags": []
   },
   "source": [
    "## MWAA, 1 min worker, 1 max worker (to show scalability)"
   ]
  },
  {
   "cell_type": "code",
   "execution_count": null,
   "metadata": {},
   "outputs": [],
   "source": [
    "entries = [\n",
    "    HistogramEntry(\n",
    "        system=System.MWAA,\n",
    "        export_date=\"2022-12-10_19-27\",\n",
    "        tasks_count=5,\n",
    "        task_duration=10,\n",
    "        dag_ids=[\"10s_5t\"]\n",
    "    ),\n",
    "    HistogramEntry(\n",
    "        system=System.BEEFLOW,\n",
    "        export_date=\"2022-12-10_19-16\",\n",
    "        tasks_count=5,\n",
    "        task_duration=10,\n",
    "        dag_ids=[\"10s_5t\"]\n",
    "    ),\n",
    "    HistogramEntry(\n",
    "        system=System.MWAA,\n",
    "        export_date=\"2022-12-10_20-56\",\n",
    "        tasks_count=10,\n",
    "        task_duration=10,\n",
    "        dag_ids=[\"10s_10t\"]\n",
    "    ),\n",
    "    HistogramEntry(\n",
    "        system=System.BEEFLOW,\n",
    "        export_date=\"2022-12-10_20-45\",\n",
    "        tasks_count=10,\n",
    "        task_duration=10,\n",
    "        dag_ids=[\"10s_10t\"]\n",
    "    ),\n",
    "    HistogramEntry(\n",
    "        system=System.MWAA,\n",
    "        export_date=\"2022-12-10_22-25\",\n",
    "        tasks_count=15,\n",
    "        task_duration=10,\n",
    "        dag_ids=[\"10s_15t\"]\n",
    "    ),\n",
    "    HistogramEntry(\n",
    "        system=System.BEEFLOW,\n",
    "        export_date=\"2022-12-10_22-14\",\n",
    "        tasks_count=15,\n",
    "        task_duration=10,\n",
    "        dag_ids=[\"10s_15t\"]\n",
    "    ),\n",
    "]"
   ]
  },
  {
   "cell_type": "code",
   "execution_count": null,
   "metadata": {},
   "outputs": [],
   "source": [
    "compare_runs_by_histograms_for(entries=entries, not_task_ids=[\"run_before_loop\"], nbins=50, height=700, width=1500)"
   ]
  },
  {
   "cell_type": "markdown",
   "metadata": {
    "jp-MarkdownHeadingCollapsed": true,
    "tags": []
   },
   "source": [
    "# Experiment analysis, line graph, 10s per task"
   ]
  },
  {
   "cell_type": "markdown",
   "metadata": {
    "tags": []
   },
   "source": [
    "## MWAA 1min worker, 10 max workers\n",
    "\n",
    "Run 5 experiments:\n",
    "- 1 task\n",
    "- 5 tasks\n",
    "- 10 tasks\n",
    "- 15 tasks"
   ]
  },
  {
   "cell_type": "markdown",
   "metadata": {
    "tags": []
   },
   "source": [
    "### 1 task"
   ]
  },
  {
   "cell_type": "code",
   "execution_count": null,
   "metadata": {},
   "outputs": [],
   "source": [
    "compare_runs_by_histograms(\n",
    "    dag_ids=[\"10s_1t\"],\n",
    "    mwaa_export_date=\"2022-12-11_00-08\",\n",
    "    beeflow_export_date=\"2022-12-10_23-57\",\n",
    "    tasks_num=1,\n",
    "    task_duration=10,\n",
    "    nbins=50,\n",
    "    not_task_ids=[],\n",
    ")"
   ]
  },
  {
   "cell_type": "markdown",
   "metadata": {
    "jp-MarkdownHeadingCollapsed": true,
    "tags": []
   },
   "source": [
    "### 5 tasks"
   ]
  },
  {
   "cell_type": "code",
   "execution_count": null,
   "metadata": {},
   "outputs": [],
   "source": [
    "compare_runs_by_histograms(\n",
    "    dag_ids=[\"10s_5t_line\"],\n",
    "    mwaa_export_date=\"2022-12-11_17-47\",\n",
    "    beeflow_export_date=\"2022-12-11_17-36\",\n",
    "    tasks_num=5,\n",
    "    task_duration=10,\n",
    "    nbins=90,\n",
    ")"
   ]
  },
  {
   "cell_type": "markdown",
   "metadata": {
    "jp-MarkdownHeadingCollapsed": true,
    "tags": []
   },
   "source": [
    "### 10 tasks"
   ]
  },
  {
   "cell_type": "code",
   "execution_count": null,
   "metadata": {},
   "outputs": [],
   "source": [
    "compare_runs_by_histograms(\n",
    "    dag_ids=[\"10s_10t_line\"],\n",
    "    mwaa_export_date=\"2022-12-11_19-16\",\n",
    "    beeflow_export_date=\"2022-12-11_19-05\",\n",
    "    tasks_num=10,\n",
    "    task_duration=10,\n",
    "    nbins=90,\n",
    ")"
   ]
  },
  {
   "cell_type": "markdown",
   "metadata": {
    "jp-MarkdownHeadingCollapsed": true,
    "tags": []
   },
   "source": [
    "### 15 tasks"
   ]
  },
  {
   "cell_type": "code",
   "execution_count": null,
   "metadata": {},
   "outputs": [],
   "source": [
    "compare_runs_by_histograms(\n",
    "    dag_ids=[\"10s_15t_line\"],\n",
    "    mwaa_export_date=\"2022-12-11_20-45\",\n",
    "    beeflow_export_date=\"2022-12-11_20-33\",\n",
    "    tasks_num=15,\n",
    "    task_duration=10,\n",
    "    nbins=90,\n",
    ")"
   ]
  },
  {
   "cell_type": "markdown",
   "metadata": {},
   "source": [
    "## 1v5v10v15 "
   ]
  },
  {
   "cell_type": "code",
   "execution_count": null,
   "metadata": {},
   "outputs": [],
   "source": [
    "entries = [\n",
    "    HistogramEntry(\n",
    "        system=System.MWAA,\n",
    "        export_date=\"2022-12-11_17-47\",\n",
    "        tasks_count=5,\n",
    "        task_duration=10,\n",
    "        dag_ids=[\"10s_5t_line\"]\n",
    "    ),\n",
    "    HistogramEntry(\n",
    "        system=System.BEEFLOW,\n",
    "        export_date=\"2022-12-11_17-36\",\n",
    "        tasks_count=5,\n",
    "        task_duration=10,\n",
    "        dag_ids=[\"10s_5t_line\"]\n",
    "    ),\n",
    "    HistogramEntry(\n",
    "        system=System.MWAA,\n",
    "        export_date=\"2022-12-11_19-16\",\n",
    "        tasks_count=10,\n",
    "        task_duration=10,\n",
    "        dag_ids=[\"10s_10t_line\"]\n",
    "    ),\n",
    "    HistogramEntry(\n",
    "        system=System.BEEFLOW,\n",
    "        export_date=\"2022-12-11_19-05\",\n",
    "        tasks_count=10,\n",
    "        task_duration=10,\n",
    "        dag_ids=[\"10s_10t_line\"]\n",
    "    ),\n",
    "    HistogramEntry(\n",
    "        system=System.MWAA,\n",
    "        export_date=\"2022-12-11_20-45\",\n",
    "        tasks_count=15,\n",
    "        task_duration=10,\n",
    "        dag_ids=[\"10s_15t_line\"]\n",
    "    ),\n",
    "    HistogramEntry(\n",
    "        system=System.BEEFLOW,\n",
    "        export_date=\"2022-12-11_20-33\",\n",
    "        tasks_count=15,\n",
    "        task_duration=10,\n",
    "        dag_ids=[\"10s_15t_line\"]\n",
    "    ),\n",
    "]"
   ]
  },
  {
   "cell_type": "code",
   "execution_count": null,
   "metadata": {},
   "outputs": [],
   "source": [
    "compare_runs_by_histograms_for(entries=entries, not_task_ids=[\"run_before_loop\"], nbins=50, height=700, width=1500)"
   ]
  },
  {
   "cell_type": "markdown",
   "metadata": {
    "jp-MarkdownHeadingCollapsed": true,
    "tags": []
   },
   "source": [
    "# Random comparisons"
   ]
  },
  {
   "cell_type": "markdown",
   "metadata": {},
   "source": [
    "## Beeflow 5v10v20v40"
   ]
  },
  {
   "cell_type": "code",
   "execution_count": null,
   "metadata": {},
   "outputs": [],
   "source": [
    "entries = [\n",
    "    HistogramEntry(\n",
    "        system=System.BEEFLOW,\n",
    "        export_date=\"2022-12-11_01-26\",\n",
    "        tasks_count=5,\n",
    "        task_duration=10,\n",
    "        dag_ids=[\"10s_5t\"]\n",
    "    ),\n",
    "    HistogramEntry(\n",
    "        system=System.BEEFLOW,\n",
    "        export_date=\"2022-12-11_02-55\",\n",
    "        tasks_count=10,\n",
    "        task_duration=10,\n",
    "        dag_ids=[\"10s_10t\"]\n",
    "    ),\n",
    "    HistogramEntry(\n",
    "        system=System.BEEFLOW,\n",
    "        export_date=\"2022-12-11_05-52\",\n",
    "        tasks_count=20,\n",
    "        task_duration=10,\n",
    "        dag_ids=[\"10s_20t\"]\n",
    "    ),\n",
    "    HistogramEntry(\n",
    "        system=System.BEEFLOW,\n",
    "        export_date=\"2022-12-13_22-02\",\n",
    "        tasks_count=40,\n",
    "        task_duration=10,\n",
    "        dag_ids=[\"10s_40t\"]\n",
    "    ),\n",
    "]"
   ]
  },
  {
   "cell_type": "code",
   "execution_count": null,
   "metadata": {},
   "outputs": [],
   "source": [
    "compare_runs_by_histograms_for(entries=entries, not_task_ids=[\"run_before_loop\"], nbins=50, height=700, width=1500)"
   ]
  },
  {
   "cell_type": "markdown",
   "metadata": {
    "jp-MarkdownHeadingCollapsed": true,
    "tags": []
   },
   "source": [
    "# 10 min cron, MWAA vs Beeflow (scales to 10 workers); Cold starts!"
   ]
  },
  {
   "cell_type": "code",
   "execution_count": null,
   "metadata": {},
   "outputs": [],
   "source": [
    "entries = [\n",
    "    HistogramEntry(\n",
    "        system=System.BEEFLOW,\n",
    "        export_date=\"2022-12-14_17-04\",\n",
    "        tasks_count=10,\n",
    "        task_duration=10,\n",
    "        dag_ids=[\"10s_10t_10cron\"]\n",
    "    ),\n",
    "    HistogramEntry(\n",
    "        system=System.MWAA,\n",
    "        export_date=\"2022-12-14_17-15\",\n",
    "        tasks_count=10,\n",
    "        task_duration=10,\n",
    "        dag_ids=[\"10s_10t_10cron\"]\n",
    "    ),\n",
    "]"
   ]
  },
  {
   "cell_type": "code",
   "execution_count": null,
   "metadata": {},
   "outputs": [],
   "source": [
    "compare_runs_by_histograms_for(entries=entries, not_task_ids=[\"run_before_loop\"], nbins=50, height=700, width=1500)"
   ]
  },
  {
   "cell_type": "markdown",
   "metadata": {
    "jp-MarkdownHeadingCollapsed": true,
    "tags": []
   },
   "source": [
    "# DMS CDC 5v10v15v20"
   ]
  },
  {
   "cell_type": "code",
   "execution_count": null,
   "metadata": {},
   "outputs": [],
   "source": [
    "entries = [\n",
    "    HistogramEntry(\n",
    "        system=System.BEEFLOW,\n",
    "        export_date=\"2022-12-24_11-25\",\n",
    "        tasks_count=5,\n",
    "        task_duration=10,\n",
    "        dag_ids=[\"10s_5t\"]\n",
    "    ),\n",
    "    HistogramEntry(\n",
    "        system=System.BEEFLOW,\n",
    "        export_date=\"2022-12-24_12-44\",\n",
    "        tasks_count=10,\n",
    "        task_duration=10,\n",
    "        dag_ids=[\"10s_10t\"]\n",
    "    ),\n",
    "    HistogramEntry(\n",
    "        system=System.BEEFLOW,\n",
    "        export_date=\"2022-12-24_14-04\",\n",
    "        tasks_count=15,\n",
    "        task_duration=10,\n",
    "        dag_ids=[\"10s_15t\"]\n",
    "    ),\n",
    "    HistogramEntry(\n",
    "        system=System.BEEFLOW,\n",
    "        export_date=\"2022-12-24_15-23\",\n",
    "        tasks_count=20,\n",
    "        task_duration=10,\n",
    "        dag_ids=[\"10s_20t\"]\n",
    "    ),\n",
    "]"
   ]
  },
  {
   "cell_type": "code",
   "execution_count": null,
   "metadata": {},
   "outputs": [],
   "source": [
    "compare_runs_by_histograms_for(entries=entries, not_task_ids=[\"run_before_loop\"], nbins=50, height=700, width=1500)"
   ]
  },
  {
   "cell_type": "code",
   "execution_count": null,
   "metadata": {},
   "outputs": [],
   "source": [
    "entry = TasksChartEntry(\n",
    "        system=System.BEEFLOW,\n",
    "        export_date=\"2022-12-24_15-23\",\n",
    "        tasks_count=20,\n",
    "        task_duration=10,\n",
    "        dag_ids=[\"10s_20t\"]\n",
    "    )\n",
    "\n",
    "tasks_plot(entry)"
   ]
  },
  {
   "cell_type": "code",
   "execution_count": null,
   "metadata": {},
   "outputs": [],
   "source": [
    "entry_dag_runs = filter_on_dag_ids(\n",
    "    df=get_stats(system=entry.system, date=entry.export_date, stats=Stats.DAG_RUNS), \n",
    "    dag_ids=entry.dag_ids,\n",
    ")\n",
    "enhance_with_duration(entry_dag_runs)\n",
    "entry_dag_runs[[\"duration\", \"run_id\", \"start_date\", \"end_date\"]]"
   ]
  },
  {
   "cell_type": "markdown",
   "metadata": {
    "jp-MarkdownHeadingCollapsed": true,
    "tags": []
   },
   "source": [
    "# DMS CDC vs MWAA parallel"
   ]
  },
  {
   "cell_type": "code",
   "execution_count": null,
   "metadata": {},
   "outputs": [],
   "source": [
    "entries = [\n",
    "    HistogramEntry(\n",
    "        system=System.MWAA,\n",
    "        export_date=\"2022-12-11_01-37\",\n",
    "        tasks_count=5,\n",
    "        task_duration=10,\n",
    "        dag_ids=[\"10s_5t\"]\n",
    "    ),\n",
    "    HistogramEntry(\n",
    "        system=System.BEEFLOW,\n",
    "        export_date=\"2022-12-24_11-25\",\n",
    "        tasks_count=5,\n",
    "        task_duration=10,\n",
    "        dag_ids=[\"10s_5t\"]\n",
    "    ),\n",
    "    HistogramEntry(\n",
    "        system=System.MWAA,\n",
    "        export_date=\"2022-12-11_03-06\",\n",
    "        tasks_count=10,\n",
    "        task_duration=10,\n",
    "        dag_ids=[\"10s_10t\"]\n",
    "    ),\n",
    "    HistogramEntry(\n",
    "        system=System.BEEFLOW,\n",
    "        export_date=\"2022-12-24_12-44\",\n",
    "        tasks_count=10,\n",
    "        task_duration=10,\n",
    "        dag_ids=[\"10s_10t\"]\n",
    "    ),\n",
    "     HistogramEntry(\n",
    "        system=System.MWAA,\n",
    "        export_date=\"2022-12-11_04-35\",\n",
    "        tasks_count=15,\n",
    "        task_duration=10,\n",
    "        dag_ids=[\"10s_15t\"]\n",
    "    ),\n",
    "    HistogramEntry(\n",
    "        system=System.BEEFLOW,\n",
    "        export_date=\"2022-12-24_14-04\",\n",
    "        tasks_count=15,\n",
    "        task_duration=10,\n",
    "        dag_ids=[\"10s_15t\"]\n",
    "    ),\n",
    "    HistogramEntry(\n",
    "        system=System.MWAA,\n",
    "        export_date=\"2022-12-11_06-04\",\n",
    "        tasks_count=20,\n",
    "        task_duration=10,\n",
    "        dag_ids=[\"10s_20t\"]\n",
    "    ),\n",
    "    HistogramEntry(\n",
    "        system=System.BEEFLOW,\n",
    "        export_date=\"2022-12-24_15-23\",\n",
    "        tasks_count=20,\n",
    "        task_duration=10,\n",
    "        dag_ids=[\"10s_20t\"]\n",
    "    ),\n",
    "]"
   ]
  },
  {
   "cell_type": "code",
   "execution_count": null,
   "metadata": {},
   "outputs": [],
   "source": [
    "compare_runs_by_histograms_for(entries=entries, not_task_ids=[\"run_before_loop\"], nbins=50, height=700, width=1500)"
   ]
  },
  {
   "cell_type": "markdown",
   "metadata": {
    "jp-MarkdownHeadingCollapsed": true,
    "tags": []
   },
   "source": [
    "# DMS CDC 1 vs MWAA 1"
   ]
  },
  {
   "cell_type": "code",
   "execution_count": null,
   "metadata": {},
   "outputs": [],
   "source": [
    "entries = [\n",
    "    HistogramEntry(\n",
    "        system=System.MWAA,\n",
    "        export_date=\"2022-12-11_00-08\",\n",
    "        tasks_count=1,\n",
    "        task_duration=10,\n",
    "        dag_ids=[\"10s_1t\"]\n",
    "    ),\n",
    "    HistogramEntry(\n",
    "        system=System.BEEFLOW,\n",
    "        export_date=\"2022-12-24_10-05\",\n",
    "        tasks_count=1,\n",
    "        task_duration=10,\n",
    "        dag_ids=[\"10s_1t\"]\n",
    "    ),\n",
    "]"
   ]
  },
  {
   "cell_type": "code",
   "execution_count": null,
   "metadata": {},
   "outputs": [],
   "source": [
    "compare_runs_by_histograms_for(entries=entries, not_task_ids=[], nbins=50, height=700, width=1500)"
   ]
  },
  {
   "cell_type": "markdown",
   "metadata": {
    "tags": []
   },
   "source": [
    "# DMS CDC linear 5v10v25"
   ]
  },
  {
   "cell_type": "code",
   "execution_count": null,
   "metadata": {},
   "outputs": [],
   "source": [
    "entries = [\n",
    "    HistogramEntry(\n",
    "        system=System.MWAA,\n",
    "        export_date=\"2022-12-11_17-47\",\n",
    "        tasks_count=5,\n",
    "        task_duration=10,\n",
    "        dag_ids=[\"10s_5t_line\"]\n",
    "    ),\n",
    "    HistogramEntry(\n",
    "        system=System.BEEFLOW,\n",
    "        export_date=\"2022-12-28_13-52\",\n",
    "        tasks_count=5,\n",
    "        task_duration=10,\n",
    "        dag_ids=[\"10s_5t_line\"]\n",
    "    ),\n",
    "    HistogramEntry(\n",
    "        system=System.MWAA,\n",
    "        export_date=\"2022-12-11_19-16\",\n",
    "        tasks_count=10,\n",
    "        task_duration=10,\n",
    "        dag_ids=[\"10s_10t_line\"]\n",
    "    ),\n",
    "    HistogramEntry(\n",
    "        system=System.BEEFLOW,\n",
    "        export_date=\"2022-12-28_15-24\",\n",
    "        tasks_count=10,\n",
    "        task_duration=10,\n",
    "        dag_ids=[\"10s_10t_line\"]\n",
    "    ),\n",
    "    HistogramEntry(\n",
    "        system=System.MWAA,\n",
    "        export_date=\"2022-12-11_20-45\",\n",
    "        tasks_count=15,\n",
    "        task_duration=10,\n",
    "        dag_ids=[\"10s_15t_line\"]\n",
    "    ),\n",
    "    HistogramEntry(\n",
    "        system=System.BEEFLOW,\n",
    "        export_date=\"2022-12-28_16-43\",\n",
    "        tasks_count=15,\n",
    "        task_duration=10,\n",
    "        dag_ids=[\"10s_15t_line\"]\n",
    "    ),\n",
    "]"
   ]
  },
  {
   "cell_type": "code",
   "execution_count": null,
   "metadata": {},
   "outputs": [],
   "source": [
    "compare_runs_by_histograms_for(entries=entries, not_task_ids=[], nbins=50, height=700, width=1500)"
   ]
  },
  {
   "cell_type": "code",
   "execution_count": null,
   "metadata": {},
   "outputs": [],
   "source": [
    "entry = TasksChartEntry(\n",
    "        system=System.BEEFLOW,\n",
    "        export_date=\"2022-12-28_16-43\",\n",
    "        tasks_count=15,\n",
    "        task_duration=10,\n",
    "        dag_ids=[\"10s_15t_line\"]\n",
    "    )\n",
    "\n",
    "tasks_plot(entry)"
   ]
  },
  {
   "cell_type": "code",
   "execution_count": null,
   "metadata": {},
   "outputs": [],
   "source": [
    "entry = TasksChartEntry(\n",
    "        system=System.MWAA,\n",
    "        export_date=\"2022-12-11_20-45\",\n",
    "        tasks_count=15,\n",
    "        task_duration=10,\n",
    "        dag_ids=[\"10s_15t_line\"]\n",
    "    )\n",
    "\n",
    "tasks_plot(entry)"
   ]
  },
  {
   "cell_type": "code",
   "execution_count": null,
   "metadata": {},
   "outputs": [],
   "source": [
    "entry = TasksChartEntry(\n",
    "        system=System.BEEFLOW,\n",
    "        export_date=\"2022-12-24_15-23\",\n",
    "        tasks_count=20,\n",
    "        task_duration=10,\n",
    "        dag_ids=[\"10s_20t\"]\n",
    "    )\n",
    "\n",
    "entry_dag_runs = filter_on_dag_ids(\n",
    "    df=get_stats(system=entry.system, date=entry.export_date, stats=Stats.DAG_RUNS), \n",
    "    dag_ids=entry.dag_ids,\n",
    ")\n",
    "enhance_with_duration(entry_dag_runs)"
   ]
  },
  {
   "cell_type": "code",
   "execution_count": null,
   "metadata": {},
   "outputs": [],
   "source": [
    "entry_dag_runs[[\"duration\", \"run_id\", \"start_date\", \"end_date\", \"_state\"]]"
   ]
  },
  {
   "cell_type": "code",
   "execution_count": null,
   "metadata": {},
   "outputs": [],
   "source": [
    "entry = TasksChartEntry(\n",
    "        system=System.BEEFLOW,\n",
    "        export_date=\"2022-12-13_22-02\",\n",
    "        tasks_count=40,\n",
    "        task_duration=10,\n",
    "        dag_ids=[\"10s_40t\"]\n",
    "    )\n",
    "\n",
    "tasks_plot(entry)"
   ]
  },
  {
   "cell_type": "markdown",
   "metadata": {},
   "source": [
    "# Beeflow vs MWAA"
   ]
  },
  {
   "cell_type": "raw",
   "metadata": {},
   "source": [
    "Experiments run on:\n",
    "- MWAA, 20 workers min, 20 workers max, 10 tasks per worker\n",
    "- Beeflow with scaled database from free tier's db.micro to db.small (2vCPU is both, 2GB RAM in small instead of 1GB in micro)\n",
    "- Scaling beeflow to db.small allowed for 160 concurrent connections (micro allows for ~85)\n",
    "- Another direction would be to add RDS proxy - however, that costs ~21$, while bumping from micro to small costs 14$\n",
    "- MWAA environment was _SMALL_, which still has a bigger database than rds.small from Beeflow"
   ]
  },
  {
   "cell_type": "code",
   "execution_count": null,
   "metadata": {},
   "outputs": [],
   "source": [
    "entries = [\n",
    "    HistogramEntry(\n",
    "        system=System.BEEFLOW,\n",
    "        export_date=\"2023-01-07_17-28\",\n",
    "        tasks_count=20,\n",
    "        task_duration=10,\n",
    "        dag_ids=[\"10s_20t\"]\n",
    "    ),\n",
    "    HistogramEntry(\n",
    "        system=System.BEEFLOW,\n",
    "        export_date=\"2023-01-07_18-57\",\n",
    "        tasks_count=40,\n",
    "        task_duration=10,\n",
    "        dag_ids=[\"10s_40t\"]\n",
    "    ),\n",
    "]"
   ]
  },
  {
   "cell_type": "code",
   "execution_count": null,
   "metadata": {},
   "outputs": [],
   "source": [
    "entry = TasksChartEntry(\n",
    "        system=System.BEEFLOW,\n",
    "        export_date=\"2023-01-07_20-26\",\n",
    "        tasks_count=80,\n",
    "        task_duration=10,\n",
    "        dag_ids=[\"10s_80t\"]\n",
    "    )\n",
    "\n",
    "entry_dag_runs = filter_on_dag_ids(\n",
    "    df=get_stats(system=entry.system, date=entry.export_date, stats=Stats.DAG_RUNS), \n",
    "    dag_ids=entry.dag_ids,\n",
    ")\n",
    "enhance_with_duration(entry_dag_runs)"
   ]
  },
  {
   "cell_type": "code",
   "execution_count": null,
   "metadata": {},
   "outputs": [],
   "source": [
    "f"
   ]
  },
  {
   "cell_type": "code",
   "execution_count": null,
   "metadata": {},
   "outputs": [],
   "source": [
    "entry = TasksChartEntry(\n",
    "        system=System.BEEFLOW,\n",
    "        export_date=\"2023-01-07_20-26\",\n",
    "        tasks_count=80,\n",
    "        task_duration=10,\n",
    "        dag_ids=[\"10s_80t\"]\n",
    "    )\n",
    "\n",
    "tasks_plot(entry)"
   ]
  },
  {
   "cell_type": "code",
   "execution_count": null,
   "metadata": {},
   "outputs": [],
   "source": [
    "entry_dag_runs[[\"duration\", \"run_id\", \"start_date\", \"end_date\", \"_state\"]]"
   ]
  },
  {
   "cell_type": "code",
   "execution_count": null,
   "metadata": {},
   "outputs": [],
   "source": [
    "entries = [\n",
    "    HistogramEntry(\n",
    "        system=System.BEEFLOW,\n",
    "        export_date=\"2023-01-07_17-28\",\n",
    "        tasks_count=20,\n",
    "        task_duration=10,\n",
    "        dag_ids=[\"10s_20t\"]\n",
    "    ),\n",
    "    HistogramEntry(\n",
    "        system=System.MWAA,\n",
    "        export_date=\"2023-01-07_17-39\",\n",
    "        tasks_count=20,\n",
    "        task_duration=10,\n",
    "        dag_ids=[\"10s_20t\"]\n",
    "    ),\n",
    "    HistogramEntry(\n",
    "        system=System.BEEFLOW,\n",
    "        export_date=\"2023-01-07_18-57\",\n",
    "        tasks_count=40,\n",
    "        task_duration=10,\n",
    "        dag_ids=[\"10s_40t\"]\n",
    "    ),\n",
    "    HistogramEntry(\n",
    "        system=System.MWAA,\n",
    "        export_date=\"2023-01-07_19-09\",\n",
    "        tasks_count=40,\n",
    "        task_duration=10,\n",
    "        dag_ids=[\"10s_40t\"]\n",
    "    ),\n",
    "    HistogramEntry(\n",
    "        system=System.BEEFLOW,\n",
    "        export_date=\"2023-01-07_20-26\",\n",
    "        tasks_count=80,\n",
    "        task_duration=10,\n",
    "        dag_ids=[\"10s_80t\"]\n",
    "    ),\n",
    "    HistogramEntry(\n",
    "        system=System.MWAA,\n",
    "        export_date=\"2023-01-07_20-38\",\n",
    "        tasks_count=80,\n",
    "        task_duration=10,\n",
    "        dag_ids=[\"10s_80t\"]\n",
    "    ),\n",
    "    HistogramEntry(\n",
    "        system=System.BEEFLOW,\n",
    "        export_date=\"2023-01-07_21-55\",\n",
    "        tasks_count=160,\n",
    "        task_duration=10,\n",
    "        dag_ids=[\"10s_160t\"]\n",
    "    ),\n",
    "    HistogramEntry(\n",
    "        system=System.MWAA,\n",
    "        export_date=\"2023-01-07_22-07\",\n",
    "        tasks_count=160,\n",
    "        task_duration=10,\n",
    "        dag_ids=[\"10s_160t\"]\n",
    "    ),\n",
    "]"
   ]
  },
  {
   "cell_type": "code",
   "execution_count": null,
   "metadata": {},
   "outputs": [],
   "source": [
    "compare_runs_by_histograms_for(entries=entries, not_task_ids=[], nbins=50, height=700, width=1500)"
   ]
  },
  {
   "cell_type": "markdown",
   "metadata": {},
   "source": [
    "# Coldstarts"
   ]
  },
  {
   "cell_type": "code",
   "execution_count": null,
   "metadata": {},
   "outputs": [],
   "source": [
    "entries = [\n",
    "    HistogramEntry(\n",
    "        system=System.BEEFLOW,\n",
    "        export_date=\"2023-01-08_16-35\",\n",
    "        tasks_count=20,\n",
    "        task_duration=10,\n",
    "        dag_ids=[\"10s_20t_30cron\"]\n",
    "    ),\n",
    "    HistogramEntry(\n",
    "        system=System.BEEFLOW,\n",
    "        export_date=\"2023-01-08_18-35\",\n",
    "        tasks_count=40,\n",
    "        task_duration=10,\n",
    "        dag_ids=[\"10s_40t_30cron\"]\n",
    "    ),\n",
    "    HistogramEntry(\n",
    "        system=System.BEEFLOW,\n",
    "        export_date=\"2023-01-08_20-36\",\n",
    "        tasks_count=80,\n",
    "        task_duration=10,\n",
    "        dag_ids=[\"10s_80t_30cron\"]\n",
    "    ),\n",
    "    HistogramEntry(\n",
    "        system=System.BEEFLOW,\n",
    "        export_date=\"2023-01-08_22-38\",\n",
    "        tasks_count=160,\n",
    "        task_duration=10,\n",
    "        dag_ids=[\"10s_160t_30cron\"]\n",
    "    ),\n",
    "]"
   ]
  },
  {
   "cell_type": "code",
   "execution_count": null,
   "metadata": {},
   "outputs": [],
   "source": [
    "compare_runs_by_histograms_for(entries=entries, not_task_ids=[], nbins=50, height=700, width=1500)"
   ]
  },
  {
   "cell_type": "code",
   "execution_count": null,
   "metadata": {},
   "outputs": [],
   "source": []
  }
 ],
 "metadata": {
  "kernelspec": {
   "display_name": "Python 3 (ipykernel)",
   "language": "python",
   "name": "python3"
  },
  "language_info": {
   "codemirror_mode": {
    "name": "ipython",
    "version": 3
   },
   "file_extension": ".py",
   "mimetype": "text/x-python",
   "name": "python",
   "nbconvert_exporter": "python",
   "pygments_lexer": "ipython3",
   "version": "3.9.10"
  }
 },
 "nbformat": 4,
 "nbformat_minor": 4
}
