{
 "cells": [
  {
   "cell_type": "code",
   "execution_count": null,
   "metadata": {
    "tags": []
   },
   "outputs": [],
   "source": [
    "BUCKET_NAME=\"beeflow-dev-metadata-dumps\""
   ]
  },
  {
   "cell_type": "code",
   "execution_count": null,
   "metadata": {},
   "outputs": [],
   "source": [
    "import pandas as pd\n",
    "import boto3"
   ]
  },
  {
   "cell_type": "code",
   "execution_count": null,
   "metadata": {},
   "outputs": [],
   "source": [
    "s3 = boto3.client('s3') "
   ]
  },
  {
   "cell_type": "code",
   "execution_count": null,
   "metadata": {},
   "outputs": [],
   "source": [
    "def get_s3_csv(file: str):\n",
    "    obj = s3.get_object(Bucket=BUCKET_NAME, Key=file)\n",
    "    return pd.read_csv(obj['Body'])\n"
   ]
  },
  {
   "cell_type": "code",
   "execution_count": null,
   "metadata": {},
   "outputs": [],
   "source": [
    "from enum import Enum\n",
    "\n",
    "class System(Enum):\n",
    "    MWAA = \"mwaa\"\n",
    "    BEEFLOW = \"serverless\"\n",
    "    \n",
    "class Stats(Enum):\n",
    "    DAG_RUNS = \"dagrun\"\n",
    "    TASKS = \"taskinstance\""
   ]
  },
  {
   "cell_type": "code",
   "execution_count": null,
   "metadata": {},
   "outputs": [],
   "source": [
    "def get_stats(system: System, date: str, stats: Stats):\n",
    "    return get_s3_csv(f\"{system.value}/export/{stats.value}/dt={date}/{stats.value}.csv\")"
   ]
  },
  {
   "cell_type": "code",
   "execution_count": null,
   "metadata": {},
   "outputs": [],
   "source": [
    "def filter_on_dag_ids(df, dag_ids):\n",
    "    return df[df['dag_id'].isin(dag_ids)]"
   ]
  },
  {
   "cell_type": "code",
   "execution_count": null,
   "metadata": {},
   "outputs": [],
   "source": [
    "mwaa_shard_10_tasks = filter_on_dag_ids(get_stats(system=System.MWAA, date=\"2022-12-07_21-57\", stats=Stats.TASKS), dag_ids=[\"beeflow_experiment2\"])"
   ]
  },
  {
   "cell_type": "code",
   "execution_count": null,
   "metadata": {},
   "outputs": [],
   "source": [
    "beeflow_shard_10_tasks = filter_on_dag_ids(get_stats(system=System.BEEFLOW, date=\"2022-12-07_21-50\", stats=Stats.TASKS), dag_ids=[\"beeflow_experiment2\"])"
   ]
  },
  {
   "cell_type": "code",
   "execution_count": null,
   "metadata": {},
   "outputs": [],
   "source": [
    "import plotly.express as px"
   ]
  },
  {
   "cell_type": "code",
   "execution_count": null,
   "metadata": {},
   "outputs": [],
   "source": [
    "def gantt_task(df, range_x=None):\n",
    "    fig = px.timeline(df, x_start=\"start_date\", x_end=\"end_date\", color=\"run_id\", y=\"task_id\", range_x=range_x)\n",
    "    fig.update_yaxes(autorange=\"reversed\")\n",
    "    fig.show()"
   ]
  },
  {
   "cell_type": "code",
   "execution_count": null,
   "metadata": {},
   "outputs": [],
   "source": [
    "shard_10_tasks_x_range = (\"2022-12-07 20:40:00.000000+00:00\", \"2022-12-07 21:55:00.000000+00:00\")"
   ]
  },
  {
   "cell_type": "code",
   "execution_count": null,
   "metadata": {},
   "outputs": [],
   "source": [
    "gantt_task(mwaa_shard_10_tasks, range_x=shard_10_tasks_x_range)"
   ]
  },
  {
   "cell_type": "code",
   "execution_count": null,
   "metadata": {},
   "outputs": [],
   "source": [
    "gantt_task(beeflow_shard_10_tasks, range_x=shard_10_tasks_x_range)"
   ]
  },
  {
   "cell_type": "code",
   "execution_count": null,
   "metadata": {},
   "outputs": [],
   "source": [
    "mwaa_shard_10_dag_runs = filter_on_dag_ids(get_stats(system=System.MWAA, date=\"2022-12-07_21-57\", stats=Stats.DAG_RUNS), dag_ids=[\"beeflow_experiment2\"])"
   ]
  },
  {
   "cell_type": "code",
   "execution_count": null,
   "metadata": {},
   "outputs": [],
   "source": [
    "beeflow_shard_10_dag_runs = filter_on_dag_ids(get_stats(system=System.BEEFLOW, date=\"2022-12-07_21-50\", stats=Stats.DAG_RUNS), dag_ids=[\"beeflow_experiment2\"])"
   ]
  },
  {
   "cell_type": "code",
   "execution_count": null,
   "metadata": {},
   "outputs": [],
   "source": [
    "def gantt_dag_runs(df, **kwargs):\n",
    "    fig = px.timeline(df, x_start=\"start_date\", x_end=\"end_date\", color=\"run_id\", **kwargs)\n",
    "    fig.update_yaxes(autorange=\"reversed\")\n",
    "    fig.show()"
   ]
  },
  {
   "cell_type": "code",
   "execution_count": null,
   "metadata": {},
   "outputs": [],
   "source": [
    "gantt_dag_runs(mwaa_shard_10_dag_runs, range_x=shard_10_tasks_x_range)"
   ]
  },
  {
   "cell_type": "code",
   "execution_count": null,
   "metadata": {},
   "outputs": [],
   "source": [
    "gantt_dag_runs(beeflow_shard_10_dag_runs, range_x=shard_10_tasks_x_range)"
   ]
  },
  {
   "cell_type": "code",
   "execution_count": null,
   "metadata": {},
   "outputs": [],
   "source": [
    "def average_dag_run_duration(df):\n",
    "    start_ms_time = pd.to_datetime(df['start_date'])\n",
    "    end_ms_time = pd.to_datetime(df['end_date'])\n",
    "    df['duration'] = end_ms_time.sub(start_ms_time).dt.total_seconds()\n",
    "    return df['duration'].mean()"
   ]
  },
  {
   "cell_type": "code",
   "execution_count": null,
   "metadata": {},
   "outputs": [],
   "source": [
    "average_dag_run_duration(mwaa_shard_10_dag_runs)"
   ]
  },
  {
   "cell_type": "code",
   "execution_count": null,
   "metadata": {},
   "outputs": [],
   "source": [
    "average_dag_run_duration(beeflow_shard_10_dag_runs)"
   ]
  },
  {
   "cell_type": "code",
   "execution_count": null,
   "metadata": {},
   "outputs": [],
   "source": []
  }
 ],
 "metadata": {
  "kernelspec": {
   "display_name": "Python 3 (ipykernel)",
   "language": "python",
   "name": "python3"
  },
  "language_info": {
   "codemirror_mode": {
    "name": "ipython",
    "version": 3
   },
   "file_extension": ".py",
   "mimetype": "text/x-python",
   "name": "python",
   "nbconvert_exporter": "python",
   "pygments_lexer": "ipython3",
   "version": "3.9.10"
  }
 },
 "nbformat": 4,
 "nbformat_minor": 4
}
